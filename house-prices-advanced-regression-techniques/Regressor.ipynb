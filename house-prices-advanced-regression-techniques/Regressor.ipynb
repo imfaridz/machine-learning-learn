{
 "cells": [
  {
   "cell_type": "code",
   "execution_count": 1,
   "metadata": {},
   "outputs": [
    {
     "name": "stderr",
     "output_type": "stream",
     "text": [
      "/anaconda3/lib/python3.7/site-packages/lightgbm/__init__.py:48: UserWarning: Starting from version 2.2.1, the library file in distribution wheels for macOS is built by the Apple Clang (Xcode_8.3.3) compiler.\n",
      "This means that in case of installing LightGBM from PyPI via the ``pip install lightgbm`` command, you don't need to install the gcc compiler anymore.\n",
      "Instead of that, you need to install the OpenMP library, which is required for running LightGBM on the system with the Apple Clang compiler.\n",
      "You can install the OpenMP library by the following command: ``brew install libomp``.\n",
      "  \"You can install the OpenMP library by the following command: ``brew install libomp``.\", UserWarning)\n"
     ]
    }
   ],
   "source": [
    "import pandas as pd\n",
    "import numpy as np\n",
    "from pandas.tools.plotting import scatter_matrix\n",
    "import matplotlib.pyplot as plt\n",
    "from sklearn.preprocessing import LabelBinarizer\n",
    "from sklearn.linear_model import LinearRegression\n",
    "from sklearn.metrics import mean_squared_error\n",
    "from sklearn.model_selection import train_test_split, cross_val_score, RandomizedSearchCV, GridSearchCV, StratifiedKFold\n",
    "from sklearn import tree\n",
    "from sklearn.externals import joblib\n",
    "from sklearn.metrics import mean_squared_log_error\n",
    "from sklearn.ensemble import RandomForestRegressor\n",
    "from sklearn.svm import SVR\n",
    "from sklearn.preprocessing import Imputer\n",
    "from sklearn.impute import SimpleImputer\n",
    "import warnings\n",
    "import xgboost\n",
    "import lightgbm as lgb\n",
    "import seaborn as sns\n",
    "import datetime"
   ]
  },
  {
   "cell_type": "code",
   "execution_count": 2,
   "metadata": {},
   "outputs": [],
   "source": [
    "warnings.filterwarnings(\"ignore\")"
   ]
  },
  {
   "cell_type": "markdown",
   "metadata": {},
   "source": [
    "## Import CSV"
   ]
  },
  {
   "cell_type": "code",
   "execution_count": 3,
   "metadata": {},
   "outputs": [],
   "source": [
    "train = pd.read_csv('train.csv')\n",
    "test = pd.read_csv('test.csv')"
   ]
  },
  {
   "cell_type": "markdown",
   "metadata": {},
   "source": [
    "## Data Cleaning"
   ]
  },
  {
   "cell_type": "code",
   "execution_count": 4,
   "metadata": {},
   "outputs": [],
   "source": [
    "obj_cols = train.select_dtypes(include='object').columns.tolist()\n",
    "num_cols = train.select_dtypes(include=['int64','float64']).columns.tolist()\n",
    "num_cols.remove('SalePrice')\n",
    "num_cols.remove('Id')"
   ]
  },
  {
   "cell_type": "code",
   "execution_count": 5,
   "metadata": {},
   "outputs": [],
   "source": [
    "def impute_object(df, obj_cols):\n",
    "    df_copy = df.copy()\n",
    "    # impute object null to Na/No/None if stated in description\n",
    "    df_copy['Alley'].fillna('None', inplace = True)\n",
    "    df_copy['MasVnrType'].fillna('None', inplace = True)\n",
    "    df_copy['BsmtQual'].fillna('None', inplace = True)\n",
    "    df_copy['BsmtCond'].fillna('NA', inplace = True)\n",
    "    df_copy['BsmtExposure'].fillna('No', inplace = True)\n",
    "    df_copy['BsmtFinType1'].fillna('NA', inplace = True)\n",
    "    df_copy['BsmtFinType2'].fillna('NA', inplace = True)\n",
    "    df_copy['FireplaceQu'].fillna('NA', inplace = True)\n",
    "    df_copy['GarageType'].fillna('NA', inplace = True)\n",
    "    df_copy['GarageFinish'].fillna('NA', inplace = True)\n",
    "    df_copy['GarageQual'].fillna('NA', inplace = True)\n",
    "    df_copy['GarageCond'].fillna('NA', inplace = True)\n",
    "    df_copy['PoolQC'].fillna('NA', inplace = True)\n",
    "    df_copy['Fence'].fillna('NA', inplace = True)\n",
    "    df_copy['MiscFeature'].fillna('NA', inplace = True)\n",
    "\n",
    "    # impute object null to mode value for not stated in description\n",
    "    object_imputer = SimpleImputer(strategy='most_frequent', fill_value='missing_value')\n",
    "    for col in obj_cols:\n",
    "        df_copy[col] = object_imputer.fit_transform(df_copy[col].values.reshape(-1,1))\n",
    "    return df_copy"
   ]
  },
  {
   "cell_type": "code",
   "execution_count": 6,
   "metadata": {},
   "outputs": [],
   "source": [
    "train = impute_object(train, obj_cols)\n",
    "test = impute_object(test, obj_cols)"
   ]
  },
  {
   "cell_type": "code",
   "execution_count": 7,
   "metadata": {},
   "outputs": [],
   "source": [
    "def impute_numeric(df,num_cols):\n",
    "    df_copy = df.copy()\n",
    "    # impute numeric value to median\n",
    "    imputer = Imputer(strategy = 'median')\n",
    "    for col in num_cols:\n",
    "        df_copy[col] = imputer.fit_transform(df_copy[col].values.reshape(-1,1))\n",
    "    return df_copy"
   ]
  },
  {
   "cell_type": "code",
   "execution_count": 8,
   "metadata": {},
   "outputs": [],
   "source": [
    "train = impute_numeric(train, num_cols)\n",
    "test = impute_numeric(test, num_cols)"
   ]
  },
  {
   "cell_type": "markdown",
   "metadata": {},
   "source": [
    "## EDA"
   ]
  },
  {
   "cell_type": "markdown",
   "metadata": {},
   "source": [
    "### Basement Features"
   ]
  },
  {
   "cell_type": "code",
   "execution_count": 9,
   "metadata": {},
   "outputs": [
    {
     "data": {
      "text/plain": [
       "<matplotlib.axes._subplots.AxesSubplot at 0x10ff4cdd8>"
      ]
     },
     "execution_count": 9,
     "metadata": {},
     "output_type": "execute_result"
    },
    {
     "data": {
      "image/png": "[encoded data removed]",
      "text/plain": [
       "<Figure size 432x288 with 1 Axes>"
      ]
     },
     "metadata": {
      "needs_background": "light"
     },
     "output_type": "display_data"
    }
   ],
   "source": [
    "##Basement Quality affect SalePrice linearly\n",
    "train[['BsmtQual','SalePrice']].groupby('BsmtQual').median().sort_values('SalePrice', ascending=False).plot.bar()"
   ]
  },
  {
   "cell_type": "code",
   "execution_count": 10,
   "metadata": {},
   "outputs": [
    {
     "data": {
      "text/plain": [
       "<matplotlib.axes._subplots.AxesSubplot at 0x110df6518>"
      ]
     },
     "execution_count": 10,
     "metadata": {},
     "output_type": "execute_result"
    },
    {
     "data": {
      "image/png": "[encoded data removed]",
      "text/plain": [
       "<Figure size 432x288 with 1 Axes>"
      ]
     },
     "metadata": {
      "needs_background": "light"
     },
     "output_type": "display_data"
    }
   ],
   "source": [
    "##People prefer no basement rather than poor quality basement\n",
    "train[['BsmtCond','SalePrice']].groupby('BsmtCond').median().sort_values('SalePrice', ascending=False).plot.bar()"
   ]
  },
  {
   "cell_type": "code",
   "execution_count": 11,
   "metadata": {},
   "outputs": [
    {
     "data": {
      "text/plain": [
       "<matplotlib.axes._subplots.AxesSubplot at 0x10ff7c208>"
      ]
     },
     "execution_count": 11,
     "metadata": {},
     "output_type": "execute_result"
    },
    {
     "data": {
      "image/png": "[encoded data removed]",
      "text/plain": [
       "<Figure size 432x288 with 1 Axes>"
      ]
     },
     "metadata": {
      "needs_background": "light"
     },
     "output_type": "display_data"
    }
   ],
   "source": [
    "train[['BsmtExposure','SalePrice']].groupby('BsmtExposure').median().sort_values('SalePrice', ascending=False).plot.bar()"
   ]
  },
  {
   "cell_type": "code",
   "execution_count": 12,
   "metadata": {},
   "outputs": [],
   "source": [
    "agg_bsmt = train[['BsmtQual','BsmtCond','BsmtExposure','SalePrice']]\\\n",
    "            .groupby(['BsmtCond','BsmtQual','BsmtExposure']).median()\\\n",
    "            .sort_values('SalePrice', ascending=False)"
   ]
  },
  {
   "cell_type": "code",
   "execution_count": 13,
   "metadata": {},
   "outputs": [],
   "source": [
    "agg_bsmt['rank'] = agg_bsmt['SalePrice'].rank(ascending = True) "
   ]
  },
  {
   "cell_type": "code",
   "execution_count": 14,
   "metadata": {},
   "outputs": [],
   "source": [
    "clf = tree.DecisionTreeClassifier()"
   ]
  },
  {
   "cell_type": "code",
   "execution_count": 15,
   "metadata": {},
   "outputs": [],
   "source": [
    "agg_bsmt['BsmtQual'] = agg_bsmt.index.get_level_values('BsmtQual')\n",
    "agg_bsmt['BsmtCond'] = agg_bsmt.index.get_level_values('BsmtCond')\n",
    "agg_bsmt['BsmtExposure'] = agg_bsmt.index.get_level_values('BsmtExposure')"
   ]
  },
  {
   "cell_type": "code",
   "execution_count": 16,
   "metadata": {},
   "outputs": [],
   "source": [
    "one_hot_bsmt = pd.get_dummies(agg_bsmt[['BsmtQual','BsmtCond','BsmtExposure']])\n",
    "test_bsmt = pd.get_dummies(test[['BsmtQual','BsmtCond','BsmtExposure']]) "
   ]
  },
  {
   "cell_type": "code",
   "execution_count": 17,
   "metadata": {},
   "outputs": [],
   "source": [
    "bsmt_cols = [one_hot_bsmt.columns.values.tolist()[i] for i in [one_hot_bsmt.columns.values.tolist().index(x) \n",
    "                                          for x in test_bsmt.columns.values.tolist()]]"
   ]
  },
  {
   "cell_type": "code",
   "execution_count": 18,
   "metadata": {},
   "outputs": [],
   "source": [
    "clf = clf.fit(one_hot_bsmt[bsmt_cols], agg_bsmt['rank'])"
   ]
  },
  {
   "cell_type": "markdown",
   "metadata": {},
   "source": [
    "### Garage Features"
   ]
  },
  {
   "cell_type": "code",
   "execution_count": 19,
   "metadata": {},
   "outputs": [],
   "source": [
    "garage_col = train.columns.values.tolist() \n",
    "garage_col = [s for s in garage_col if any(xs in s for xs in ['Garage','SalePrice'])]"
   ]
  },
  {
   "cell_type": "code",
   "execution_count": 20,
   "metadata": {},
   "outputs": [],
   "source": [
    "garage_df = train[garage_col].copy()"
   ]
  },
  {
   "cell_type": "code",
   "execution_count": 21,
   "metadata": {},
   "outputs": [
    {
     "data": {
      "text/plain": [
       "<matplotlib.axes._subplots.AxesSubplot at 0x11a25d1d0>"
      ]
     },
     "execution_count": 21,
     "metadata": {},
     "output_type": "execute_result"
    },
    {
     "data": {
      "image/png": "[encoded data removed]",
      "text/plain": [
       "<Figure size 432x288 with 1 Axes>"
      ]
     },
     "metadata": {
      "needs_background": "light"
     },
     "output_type": "display_data"
    }
   ],
   "source": [
    "garage_df[['GarageType','SalePrice']].groupby('GarageType').median().sort_values('SalePrice', ascending=False).plot.bar()"
   ]
  },
  {
   "cell_type": "code",
   "execution_count": 22,
   "metadata": {},
   "outputs": [
    {
     "data": {
      "text/plain": [
       "<matplotlib.axes._subplots.AxesSubplot at 0x1a1ed579e8>"
      ]
     },
     "execution_count": 22,
     "metadata": {},
     "output_type": "execute_result"
    },
    {
     "data": {
      "image/png": "[encoded data removed]",
      "text/plain": [
       "<Figure size 432x288 with 1 Axes>"
      ]
     },
     "metadata": {
      "needs_background": "light"
     },
     "output_type": "display_data"
    }
   ],
   "source": [
    "garage_df[['GarageFinish','SalePrice']].groupby('GarageFinish').median().sort_values('SalePrice', ascending=False).plot.bar()"
   ]
  },
  {
   "cell_type": "code",
   "execution_count": 23,
   "metadata": {},
   "outputs": [
    {
     "data": {
      "text/plain": [
       "<matplotlib.axes._subplots.AxesSubplot at 0x1a1ed02828>"
      ]
     },
     "execution_count": 23,
     "metadata": {},
     "output_type": "execute_result"
    },
    {
     "data": {
      "image/png": "[encoded data removed]",
      "text/plain": [
       "<Figure size 432x288 with 1 Axes>"
      ]
     },
     "metadata": {
      "needs_background": "light"
     },
     "output_type": "display_data"
    }
   ],
   "source": [
    "garage_df[['GarageQual','SalePrice']].groupby('GarageQual').median().sort_values('SalePrice', ascending=False).plot.bar()"
   ]
  },
  {
   "cell_type": "code",
   "execution_count": 24,
   "metadata": {},
   "outputs": [
    {
     "data": {
      "text/plain": [
       "<matplotlib.axes._subplots.AxesSubplot at 0x1a1ee349e8>"
      ]
     },
     "execution_count": 24,
     "metadata": {},
     "output_type": "execute_result"
    },
    {
     "data": {
      "image/png": "[encoded data removed]",
      "text/plain": [
       "<Figure size 432x288 with 1 Axes>"
      ]
     },
     "metadata": {
      "needs_background": "light"
     },
     "output_type": "display_data"
    }
   ],
   "source": [
    "garage_df[['GarageCond','SalePrice']].groupby('GarageCond').median().sort_values('SalePrice', ascending=False).plot.bar()"
   ]
  },
  {
   "cell_type": "code",
   "execution_count": 25,
   "metadata": {},
   "outputs": [],
   "source": [
    "agg_garage = garage_df[['GarageType','GarageFinish','GarageQual','GarageCond','SalePrice']]\\\n",
    "            .groupby(['GarageType','GarageFinish','GarageQual','GarageCond']).median()\\\n",
    "            .sort_values('SalePrice', ascending=False)"
   ]
  },
  {
   "cell_type": "code",
   "execution_count": 26,
   "metadata": {},
   "outputs": [],
   "source": [
    "agg_garage['rank'] = agg_garage['SalePrice'].rank(ascending = True) \n",
    "agg_garage['rank'] = agg_garage['rank'].astype(int)"
   ]
  },
  {
   "cell_type": "code",
   "execution_count": 27,
   "metadata": {},
   "outputs": [],
   "source": [
    "clf_garage = tree.DecisionTreeClassifier()\n",
    "agg_garage['GarageType'] = agg_garage.index.get_level_values('GarageType')\n",
    "agg_garage['GarageFinish'] = agg_garage.index.get_level_values('GarageFinish')\n",
    "agg_garage['GarageQual'] = agg_garage.index.get_level_values('GarageQual')\n",
    "agg_garage['GarageCond'] = agg_garage.index.get_level_values('GarageCond')\n",
    "\n",
    "one_hot_garage = pd.get_dummies(agg_garage[['GarageType','GarageFinish','GarageQual','GarageCond']])\n",
    "test_garage = pd.get_dummies(test[['GarageType','GarageFinish','GarageQual','GarageCond']]) "
   ]
  },
  {
   "cell_type": "code",
   "execution_count": 28,
   "metadata": {},
   "outputs": [],
   "source": [
    "garage_cols = [one_hot_garage.columns.values.tolist()[i] for i in [one_hot_garage.columns.values.tolist().index(x) \n",
    "                                          for x in test_garage.columns.values.tolist()]]"
   ]
  },
  {
   "cell_type": "code",
   "execution_count": 29,
   "metadata": {},
   "outputs": [],
   "source": [
    "clf_garage = clf_garage.fit(one_hot_garage[garage_cols], agg_garage['rank'])"
   ]
  },
  {
   "cell_type": "markdown",
   "metadata": {},
   "source": [
    "### Exterior Features"
   ]
  },
  {
   "cell_type": "code",
   "execution_count": 30,
   "metadata": {},
   "outputs": [],
   "source": [
    "exter_col = train.columns.values.tolist() \n",
    "exter_col = [s for s in exter_col if any(xs in s for xs in ['Exter','SalePrice'])]"
   ]
  },
  {
   "cell_type": "code",
   "execution_count": 31,
   "metadata": {},
   "outputs": [],
   "source": [
    "exter_df = train[exter_col].copy()"
   ]
  },
  {
   "cell_type": "code",
   "execution_count": 32,
   "metadata": {},
   "outputs": [
    {
     "data": {
      "text/plain": [
       "<matplotlib.axes._subplots.AxesSubplot at 0x1a21ab9c50>"
      ]
     },
     "execution_count": 32,
     "metadata": {},
     "output_type": "execute_result"
    },
    {
     "data": {
      "image/png": "[encoded data removed]",
      "text/plain": [
       "<Figure size 432x288 with 1 Axes>"
      ]
     },
     "metadata": {
      "needs_background": "light"
     },
     "output_type": "display_data"
    }
   ],
   "source": [
    "exter_df[['Exterior1st','SalePrice']].groupby('Exterior1st').median().sort_values('SalePrice', ascending=False).plot.bar()"
   ]
  },
  {
   "cell_type": "code",
   "execution_count": 33,
   "metadata": {},
   "outputs": [
    {
     "data": {
      "text/plain": [
       "<matplotlib.axes._subplots.AxesSubplot at 0x1a21b679e8>"
      ]
     },
     "execution_count": 33,
     "metadata": {},
     "output_type": "execute_result"
    },
    {
     "data": {
      "image/png": "[encoded data removed]",
      "text/plain": [
       "<Figure size 432x288 with 1 Axes>"
      ]
     },
     "metadata": {
      "needs_background": "light"
     },
     "output_type": "display_data"
    }
   ],
   "source": [
    "exter_df[['Exterior2nd','SalePrice']].groupby('Exterior2nd').median().sort_values('SalePrice', ascending=False).plot.bar()"
   ]
  },
  {
   "cell_type": "code",
   "execution_count": 34,
   "metadata": {},
   "outputs": [
    {
     "data": {
      "text/plain": [
       "<matplotlib.axes._subplots.AxesSubplot at 0x1a21cae400>"
      ]
     },
     "execution_count": 34,
     "metadata": {},
     "output_type": "execute_result"
    },
    {
     "data": {
      "image/png": "[encoded data removed]",
      "text/plain": [
       "<Figure size 432x288 with 1 Axes>"
      ]
     },
     "metadata": {
      "needs_background": "light"
     },
     "output_type": "display_data"
    }
   ],
   "source": [
    "exter_df[['ExterQual','SalePrice']].groupby('ExterQual').median().sort_values('SalePrice', ascending=False).plot.bar()"
   ]
  },
  {
   "cell_type": "code",
   "execution_count": 35,
   "metadata": {},
   "outputs": [
    {
     "data": {
      "text/plain": [
       "<matplotlib.axes._subplots.AxesSubplot at 0x1a21cb82e8>"
      ]
     },
     "execution_count": 35,
     "metadata": {},
     "output_type": "execute_result"
    },
    {
     "data": {
      "image/png": "[encoded data removed]",
      "text/plain": [
       "<Figure size 432x288 with 1 Axes>"
      ]
     },
     "metadata": {
      "needs_background": "light"
     },
     "output_type": "display_data"
    }
   ],
   "source": [
    "exter_df[['ExterCond','SalePrice']].groupby('ExterCond').median().sort_values('SalePrice', ascending=False).plot.bar()"
   ]
  },
  {
   "cell_type": "code",
   "execution_count": 36,
   "metadata": {},
   "outputs": [],
   "source": [
    "agg_exter = exter_df.groupby(['Exterior1st','Exterior2nd','ExterQual','ExterCond']).median()\\\n",
    "            .sort_values('SalePrice', ascending=False)"
   ]
  },
  {
   "cell_type": "code",
   "execution_count": 37,
   "metadata": {},
   "outputs": [],
   "source": [
    "agg_exter['rank'] = agg_exter['SalePrice'].rank(ascending = True) \n",
    "agg_exter['rank'] = agg_exter['rank'].astype(int)"
   ]
  },
  {
   "cell_type": "code",
   "execution_count": 38,
   "metadata": {},
   "outputs": [],
   "source": [
    "clf_exter = tree.DecisionTreeClassifier()\n",
    "agg_exter['Exterior1st'] = agg_exter.index.get_level_values('Exterior1st')\n",
    "agg_exter['Exterior2nd'] = agg_exter.index.get_level_values('Exterior2nd')\n",
    "agg_exter['ExterQual'] = agg_exter.index.get_level_values('ExterQual')\n",
    "agg_exter['ExterCond'] = agg_exter.index.get_level_values('ExterCond')\n",
    "\n",
    "one_hot_exter = pd.get_dummies(agg_exter[['Exterior1st','Exterior2nd','ExterQual','ExterCond']])\n",
    "test_exter = pd.get_dummies(test[['Exterior1st','Exterior2nd','ExterQual','ExterCond']])"
   ]
  },
  {
   "cell_type": "code",
   "execution_count": 39,
   "metadata": {},
   "outputs": [],
   "source": [
    "exter_cols = [one_hot_exter.columns.values.tolist()[i] for i in [one_hot_exter.columns.values.tolist().index(x) \n",
    "                                          for x in test_exter.columns.values.tolist()]]"
   ]
  },
  {
   "cell_type": "code",
   "execution_count": 40,
   "metadata": {},
   "outputs": [],
   "source": [
    "clf_exter = clf_exter.fit(one_hot_exter[exter_cols], agg_exter['rank'])"
   ]
  },
  {
   "cell_type": "markdown",
   "metadata": {},
   "source": [
    "## Label Encode"
   ]
  },
  {
   "cell_type": "code",
   "execution_count": 41,
   "metadata": {},
   "outputs": [],
   "source": [
    "def encode_by_rank(df, clf_model, column):\n",
    "    df_dummies = pd.get_dummies(df)\n",
    "    df_dummies['rank'] = clf_model.predict(df_dummies[column])\n",
    "    return df_dummies['rank']"
   ]
  },
  {
   "cell_type": "code",
   "execution_count": 42,
   "metadata": {},
   "outputs": [],
   "source": [
    "train['rank_bsmt'] = encode_by_rank(train, clf, bsmt_cols)\n",
    "train['rank_garage'] = encode_by_rank(train, clf_garage, garage_cols)\n",
    "train['rank_exter'] = encode_by_rank(train, clf_exter, exter_cols)"
   ]
  },
  {
   "cell_type": "code",
   "execution_count": 43,
   "metadata": {},
   "outputs": [],
   "source": [
    "test['rank_bsmt'] = encode_by_rank(test, clf, bsmt_cols)\n",
    "test['rank_garage'] = encode_by_rank(test, clf_garage, garage_cols)\n",
    "test['rank_exter'] = encode_by_rank(test, clf_exter, exter_cols)"
   ]
  },
  {
   "cell_type": "markdown",
   "metadata": {},
   "source": [
    "## Feature Scaling"
   ]
  },
  {
   "cell_type": "markdown",
   "metadata": {},
   "source": [
    "### Skewness Check"
   ]
  },
  {
   "cell_type": "code",
   "execution_count": 44,
   "metadata": {},
   "outputs": [],
   "source": [
    "skew_cols = train[num_cols].skew().sort_values(ascending = False)\n",
    "skew_cols = skew_cols[abs(skew_cols) > 2].index.values.tolist()"
   ]
  },
  {
   "cell_type": "markdown",
   "metadata": {},
   "source": [
    "### Log Transform Skew Data (skewness > 2)"
   ]
  },
  {
   "cell_type": "code",
   "execution_count": 45,
   "metadata": {},
   "outputs": [],
   "source": [
    "def log_transform(df, column):\n",
    "    return np.log(df[column] + 1)"
   ]
  },
  {
   "cell_type": "code",
   "execution_count": 46,
   "metadata": {},
   "outputs": [],
   "source": [
    "train_processed = train.copy()\n",
    "test_processed = test.copy()"
   ]
  },
  {
   "cell_type": "code",
   "execution_count": 47,
   "metadata": {},
   "outputs": [],
   "source": [
    "for skew_col in skew_cols:\n",
    "    train_processed[skew_col] = log_transform(train_processed, skew_col)\n",
    "    test_processed[skew_col] = log_transform(test_processed, skew_col)"
   ]
  },
  {
   "cell_type": "markdown",
   "metadata": {},
   "source": [
    "## Feature Selection"
   ]
  },
  {
   "cell_type": "code",
   "execution_count": 48,
   "metadata": {},
   "outputs": [],
   "source": [
    "train_processed = pd.get_dummies(train_processed)\n",
    "test_processed = pd.get_dummies(test_processed)"
   ]
  },
  {
   "cell_type": "code",
   "execution_count": 49,
   "metadata": {},
   "outputs": [],
   "source": [
    "correlation = train_processed.corr()['SalePrice'].sort_values()"
   ]
  },
  {
   "cell_type": "markdown",
   "metadata": {},
   "source": [
    "## Label and Feature Separation"
   ]
  },
  {
   "cell_type": "code",
   "execution_count": 50,
   "metadata": {},
   "outputs": [],
   "source": [
    "label = train['SalePrice']"
   ]
  },
  {
   "cell_type": "code",
   "execution_count": 51,
   "metadata": {},
   "outputs": [],
   "source": [
    "feat_cols_train = train_processed.columns.values.tolist()\n",
    "feat_cols_test = test_processed.columns.values.tolist()"
   ]
  },
  {
   "cell_type": "code",
   "execution_count": 52,
   "metadata": {},
   "outputs": [],
   "source": [
    "feat_cols = [feat_cols_train[i] for i in [feat_cols_train.index(x) for x in feat_cols_test]]\n",
    "feat_cols.remove('Id')"
   ]
  },
  {
   "cell_type": "code",
   "execution_count": 53,
   "metadata": {},
   "outputs": [],
   "source": [
    "features = train_processed[feat_cols]"
   ]
  },
  {
   "cell_type": "code",
   "execution_count": 54,
   "metadata": {},
   "outputs": [],
   "source": [
    "X_train, X_test, y_train, y_test = train_test_split(features, label, test_size=0.2, random_state=42)"
   ]
  },
  {
   "cell_type": "code",
   "execution_count": 55,
   "metadata": {},
   "outputs": [],
   "source": [
    "gbm = lgb.LGBMRegressor(boosting_type='gbdt', \n",
    "                        num_leaves=31, \n",
    "                        max_depth=-1, \n",
    "                        learning_rate=0.01, \n",
    "                        n_estimators=1000, \n",
    "                        max_bin=255, \n",
    "                        subsample_for_bin=50000, \n",
    "                        objective='regression', \n",
    "                        min_split_gain=0, \n",
    "                        min_child_weight=3,\n",
    "                        min_child_samples=10, \n",
    "                        subsample=1, \n",
    "                        subsample_freq=1, \n",
    "                        colsample_bytree=1, \n",
    "                        reg_alpha=0.1, \n",
    "                        reg_lambda=0, \n",
    "                        seed=17,\n",
    "                        silent=False, \n",
    "                        nthread=-1)"
   ]
  },
  {
   "cell_type": "code",
   "execution_count": 56,
   "metadata": {},
   "outputs": [
    {
     "name": "stdout",
     "output_type": "stream",
     "text": [
      "[1]\tvalid_0's rmse: 86948.6\tvalid_0's l2: 7.56006e+09\n",
      "[2]\tvalid_0's rmse: 86296.4\tvalid_0's l2: 7.44707e+09\n",
      "[3]\tvalid_0's rmse: 85640.9\tvalid_0's l2: 7.33436e+09\n",
      "[4]\tvalid_0's rmse: 85003.2\tvalid_0's l2: 7.22555e+09\n",
      "[5]\tvalid_0's rmse: 84365.1\tvalid_0's l2: 7.11748e+09\n",
      "[6]\tvalid_0's rmse: 83750.3\tvalid_0's l2: 7.01411e+09\n",
      "[7]\tvalid_0's rmse: 83135.5\tvalid_0's l2: 6.9115e+09\n",
      "[8]\tvalid_0's rmse: 82517.5\tvalid_0's l2: 6.80915e+09\n",
      "[9]\tvalid_0's rmse: 81906.5\tvalid_0's l2: 6.70867e+09\n",
      "[10]\tvalid_0's rmse: 81318\tvalid_0's l2: 6.61261e+09\n",
      "[11]\tvalid_0's rmse: 80724\tvalid_0's l2: 6.51636e+09\n",
      "[12]\tvalid_0's rmse: 80132.1\tvalid_0's l2: 6.42115e+09\n",
      "[13]\tvalid_0's rmse: 79543.7\tvalid_0's l2: 6.3272e+09\n",
      "[14]\tvalid_0's rmse: 78959.4\tvalid_0's l2: 6.23459e+09\n",
      "[15]\tvalid_0's rmse: 78377.1\tvalid_0's l2: 6.14298e+09\n",
      "[16]\tvalid_0's rmse: 77828.2\tvalid_0's l2: 6.05723e+09\n",
      "[17]\tvalid_0's rmse: 77286.7\tvalid_0's l2: 5.97324e+09\n",
      "[18]\tvalid_0's rmse: 76728.1\tvalid_0's l2: 5.88721e+09\n",
      "[19]\tvalid_0's rmse: 76185\tvalid_0's l2: 5.80415e+09\n",
      "[20]\tvalid_0's rmse: 75635.8\tvalid_0's l2: 5.72077e+09\n",
      "[21]\tvalid_0's rmse: 75106.8\tvalid_0's l2: 5.64104e+09\n",
      "[22]\tvalid_0's rmse: 74568.6\tvalid_0's l2: 5.56048e+09\n",
      "[23]\tvalid_0's rmse: 74058.5\tvalid_0's l2: 5.48467e+09\n",
      "[24]\tvalid_0's rmse: 73564.8\tvalid_0's l2: 5.41179e+09\n",
      "[25]\tvalid_0's rmse: 73056.3\tvalid_0's l2: 5.33722e+09\n",
      "[26]\tvalid_0's rmse: 72569.5\tvalid_0's l2: 5.26634e+09\n",
      "[27]\tvalid_0's rmse: 72055.3\tvalid_0's l2: 5.19197e+09\n",
      "[28]\tvalid_0's rmse: 71556.8\tvalid_0's l2: 5.12037e+09\n",
      "[29]\tvalid_0's rmse: 71100.1\tvalid_0's l2: 5.05522e+09\n",
      "[30]\tvalid_0's rmse: 70617.7\tvalid_0's l2: 4.98685e+09\n",
      "[31]\tvalid_0's rmse: 70166\tvalid_0's l2: 4.92326e+09\n",
      "[32]\tvalid_0's rmse: 69719.5\tvalid_0's l2: 4.8608e+09\n",
      "[33]\tvalid_0's rmse: 69263.1\tvalid_0's l2: 4.79738e+09\n",
      "[34]\tvalid_0's rmse: 68811.1\tvalid_0's l2: 4.73496e+09\n",
      "[35]\tvalid_0's rmse: 68363.3\tvalid_0's l2: 4.67355e+09\n",
      "[36]\tvalid_0's rmse: 67903.6\tvalid_0's l2: 4.61089e+09\n",
      "[37]\tvalid_0's rmse: 67462\tvalid_0's l2: 4.55113e+09\n",
      "[38]\tvalid_0's rmse: 67035.1\tvalid_0's l2: 4.49371e+09\n",
      "[39]\tvalid_0's rmse: 66640.2\tvalid_0's l2: 4.44091e+09\n",
      "[40]\tvalid_0's rmse: 66200.4\tvalid_0's l2: 4.3825e+09\n",
      "[41]\tvalid_0's rmse: 65788\tvalid_0's l2: 4.32806e+09\n",
      "[42]\tvalid_0's rmse: 65349.1\tvalid_0's l2: 4.2705e+09\n",
      "[43]\tvalid_0's rmse: 64964.6\tvalid_0's l2: 4.2204e+09\n",
      "[44]\tvalid_0's rmse: 64536.7\tvalid_0's l2: 4.16499e+09\n",
      "[45]\tvalid_0's rmse: 64157.7\tvalid_0's l2: 4.11621e+09\n",
      "[46]\tvalid_0's rmse: 63751.8\tvalid_0's l2: 4.06429e+09\n",
      "[47]\tvalid_0's rmse: 63343.3\tvalid_0's l2: 4.01237e+09\n",
      "[48]\tvalid_0's rmse: 62957\tvalid_0's l2: 3.96358e+09\n",
      "[49]\tvalid_0's rmse: 62569.8\tvalid_0's l2: 3.91499e+09\n",
      "[50]\tvalid_0's rmse: 62210.4\tvalid_0's l2: 3.87013e+09\n",
      "[51]\tvalid_0's rmse: 61822.4\tvalid_0's l2: 3.82201e+09\n",
      "[52]\tvalid_0's rmse: 61495.3\tvalid_0's l2: 3.78167e+09\n",
      "[53]\tvalid_0's rmse: 61150.2\tvalid_0's l2: 3.73934e+09\n",
      "[54]\tvalid_0's rmse: 60784.8\tvalid_0's l2: 3.6948e+09\n",
      "[55]\tvalid_0's rmse: 60427.9\tvalid_0's l2: 3.65154e+09\n",
      "[56]\tvalid_0's rmse: 60069.6\tvalid_0's l2: 3.60836e+09\n",
      "[57]\tvalid_0's rmse: 59726.8\tvalid_0's l2: 3.56729e+09\n",
      "[58]\tvalid_0's rmse: 59387\tvalid_0's l2: 3.52682e+09\n",
      "[59]\tvalid_0's rmse: 59045.6\tvalid_0's l2: 3.48638e+09\n",
      "[60]\tvalid_0's rmse: 58708.4\tvalid_0's l2: 3.44668e+09\n",
      "[61]\tvalid_0's rmse: 58380.9\tvalid_0's l2: 3.40833e+09\n",
      "[62]\tvalid_0's rmse: 58037.1\tvalid_0's l2: 3.36831e+09\n",
      "[63]\tvalid_0's rmse: 57736.8\tvalid_0's l2: 3.33354e+09\n",
      "[64]\tvalid_0's rmse: 57395.7\tvalid_0's l2: 3.29427e+09\n",
      "[65]\tvalid_0's rmse: 57064.2\tvalid_0's l2: 3.25632e+09\n",
      "[66]\tvalid_0's rmse: 56730.7\tvalid_0's l2: 3.21837e+09\n",
      "[67]\tvalid_0's rmse: 56400.6\tvalid_0's l2: 3.18103e+09\n",
      "[68]\tvalid_0's rmse: 56112.8\tvalid_0's l2: 3.14865e+09\n",
      "[69]\tvalid_0's rmse: 55813.7\tvalid_0's l2: 3.11517e+09\n",
      "[70]\tvalid_0's rmse: 55496\tvalid_0's l2: 3.0798e+09\n",
      "[71]\tvalid_0's rmse: 55188.1\tvalid_0's l2: 3.04573e+09\n",
      "[72]\tvalid_0's rmse: 54876.5\tvalid_0's l2: 3.01143e+09\n",
      "[73]\tvalid_0's rmse: 54574.9\tvalid_0's l2: 2.97842e+09\n",
      "[74]\tvalid_0's rmse: 54271.8\tvalid_0's l2: 2.94543e+09\n",
      "[75]\tvalid_0's rmse: 53972.3\tvalid_0's l2: 2.91301e+09\n",
      "[76]\tvalid_0's rmse: 53704.2\tvalid_0's l2: 2.88414e+09\n",
      "[77]\tvalid_0's rmse: 53420.6\tvalid_0's l2: 2.85376e+09\n",
      "[78]\tvalid_0's rmse: 53127.3\tvalid_0's l2: 2.82251e+09\n",
      "[79]\tvalid_0's rmse: 52843.5\tvalid_0's l2: 2.79244e+09\n",
      "[80]\tvalid_0's rmse: 52593.5\tvalid_0's l2: 2.76607e+09\n",
      "[81]\tvalid_0's rmse: 52319.5\tvalid_0's l2: 2.73733e+09\n",
      "[82]\tvalid_0's rmse: 52038.9\tvalid_0's l2: 2.70804e+09\n",
      "[83]\tvalid_0's rmse: 51771.1\tvalid_0's l2: 2.68025e+09\n",
      "[84]\tvalid_0's rmse: 51527.6\tvalid_0's l2: 2.6551e+09\n",
      "[85]\tvalid_0's rmse: 51257.8\tvalid_0's l2: 2.62736e+09\n",
      "[86]\tvalid_0's rmse: 51013.8\tvalid_0's l2: 2.60241e+09\n",
      "[87]\tvalid_0's rmse: 50756.2\tvalid_0's l2: 2.57619e+09\n",
      "[88]\tvalid_0's rmse: 50512.8\tvalid_0's l2: 2.55155e+09\n",
      "[89]\tvalid_0's rmse: 50258.6\tvalid_0's l2: 2.52593e+09\n",
      "[90]\tvalid_0's rmse: 50020.3\tvalid_0's l2: 2.50203e+09\n",
      "[91]\tvalid_0's rmse: 49765.7\tvalid_0's l2: 2.47663e+09\n",
      "[92]\tvalid_0's rmse: 49519.6\tvalid_0's l2: 2.45219e+09\n",
      "[93]\tvalid_0's rmse: 49277.6\tvalid_0's l2: 2.42828e+09\n",
      "[94]\tvalid_0's rmse: 49055.3\tvalid_0's l2: 2.40642e+09\n",
      "[95]\tvalid_0's rmse: 48826.7\tvalid_0's l2: 2.38404e+09\n",
      "[96]\tvalid_0's rmse: 48593.3\tvalid_0's l2: 2.36131e+09\n",
      "[97]\tvalid_0's rmse: 48360.2\tvalid_0's l2: 2.3387e+09\n",
      "[98]\tvalid_0's rmse: 48143.4\tvalid_0's l2: 2.31778e+09\n",
      "[99]\tvalid_0's rmse: 47940.1\tvalid_0's l2: 2.29825e+09\n",
      "[100]\tvalid_0's rmse: 47730.1\tvalid_0's l2: 2.27817e+09\n",
      "[101]\tvalid_0's rmse: 47523.5\tvalid_0's l2: 2.25848e+09\n",
      "[102]\tvalid_0's rmse: 47319.2\tvalid_0's l2: 2.23911e+09\n",
      "[103]\tvalid_0's rmse: 47099.8\tvalid_0's l2: 2.21839e+09\n",
      "[104]\tvalid_0's rmse: 46897.5\tvalid_0's l2: 2.19938e+09\n",
      "[105]\tvalid_0's rmse: 46689.6\tvalid_0's l2: 2.17992e+09\n",
      "[106]\tvalid_0's rmse: 46491.9\tvalid_0's l2: 2.1615e+09\n",
      "[107]\tvalid_0's rmse: 46280.4\tvalid_0's l2: 2.14187e+09\n",
      "[108]\tvalid_0's rmse: 46062.9\tvalid_0's l2: 2.12179e+09\n",
      "[109]\tvalid_0's rmse: 45863.1\tvalid_0's l2: 2.10343e+09\n",
      "[110]\tvalid_0's rmse: 45683.5\tvalid_0's l2: 2.08698e+09\n",
      "[111]\tvalid_0's rmse: 45473.7\tvalid_0's l2: 2.06785e+09\n",
      "[112]\tvalid_0's rmse: 45289.2\tvalid_0's l2: 2.05111e+09\n",
      "[113]\tvalid_0's rmse: 45085\tvalid_0's l2: 2.03266e+09\n",
      "[114]\tvalid_0's rmse: 44909.6\tvalid_0's l2: 2.01688e+09\n",
      "[115]\tvalid_0's rmse: 44708.6\tvalid_0's l2: 1.99886e+09\n",
      "[116]\tvalid_0's rmse: 44512.1\tvalid_0's l2: 1.98132e+09\n",
      "[117]\tvalid_0's rmse: 44321\tvalid_0's l2: 1.96435e+09\n",
      "[118]\tvalid_0's rmse: 44142.4\tvalid_0's l2: 1.94855e+09\n",
      "[119]\tvalid_0's rmse: 43970.1\tvalid_0's l2: 1.93337e+09\n",
      "[120]\tvalid_0's rmse: 43781.3\tvalid_0's l2: 1.9168e+09\n",
      "[121]\tvalid_0's rmse: 43610.4\tvalid_0's l2: 1.90187e+09\n",
      "[122]\tvalid_0's rmse: 43442.2\tvalid_0's l2: 1.88723e+09\n",
      "[123]\tvalid_0's rmse: 43271.4\tvalid_0's l2: 1.87241e+09\n",
      "[124]\tvalid_0's rmse: 43091.1\tvalid_0's l2: 1.85684e+09\n",
      "[125]\tvalid_0's rmse: 42927.1\tvalid_0's l2: 1.84274e+09\n",
      "[126]\tvalid_0's rmse: 42752.5\tvalid_0's l2: 1.82778e+09\n",
      "[127]\tvalid_0's rmse: 42594.3\tvalid_0's l2: 1.81427e+09\n",
      "[128]\tvalid_0's rmse: 42432.1\tvalid_0's l2: 1.80048e+09\n",
      "[129]\tvalid_0's rmse: 42259.2\tvalid_0's l2: 1.78584e+09\n",
      "[130]\tvalid_0's rmse: 42088.7\tvalid_0's l2: 1.77146e+09\n",
      "[131]\tvalid_0's rmse: 41923.8\tvalid_0's l2: 1.75761e+09\n",
      "[132]\tvalid_0's rmse: 41759\tvalid_0's l2: 1.74381e+09\n",
      "[133]\tvalid_0's rmse: 41605.3\tvalid_0's l2: 1.731e+09\n",
      "[134]\tvalid_0's rmse: 41441.2\tvalid_0's l2: 1.71737e+09\n",
      "[135]\tvalid_0's rmse: 41280.2\tvalid_0's l2: 1.70405e+09\n",
      "[136]\tvalid_0's rmse: 41141.6\tvalid_0's l2: 1.69263e+09\n",
      "[137]\tvalid_0's rmse: 40985.1\tvalid_0's l2: 1.67978e+09\n",
      "[138]\tvalid_0's rmse: 40852.1\tvalid_0's l2: 1.6689e+09\n",
      "[139]\tvalid_0's rmse: 40703.3\tvalid_0's l2: 1.65676e+09\n",
      "[140]\tvalid_0's rmse: 40548.2\tvalid_0's l2: 1.64416e+09\n",
      "[141]\tvalid_0's rmse: 40418.9\tvalid_0's l2: 1.63369e+09\n",
      "[142]\tvalid_0's rmse: 40270\tvalid_0's l2: 1.62167e+09\n",
      "[143]\tvalid_0's rmse: 40143.4\tvalid_0's l2: 1.61149e+09\n",
      "[144]\tvalid_0's rmse: 39997.8\tvalid_0's l2: 1.59983e+09\n",
      "[145]\tvalid_0's rmse: 39856.7\tvalid_0's l2: 1.58856e+09\n",
      "[146]\tvalid_0's rmse: 39729.6\tvalid_0's l2: 1.57844e+09\n",
      "[147]\tvalid_0's rmse: 39591.3\tvalid_0's l2: 1.56747e+09\n",
      "[148]\tvalid_0's rmse: 39472.3\tvalid_0's l2: 1.55806e+09\n",
      "[149]\tvalid_0's rmse: 39338.8\tvalid_0's l2: 1.54754e+09\n",
      "[150]\tvalid_0's rmse: 39206\tvalid_0's l2: 1.53711e+09\n",
      "[151]\tvalid_0's rmse: 39073.5\tvalid_0's l2: 1.52673e+09\n",
      "[152]\tvalid_0's rmse: 38947.8\tvalid_0's l2: 1.51693e+09\n",
      "[153]\tvalid_0's rmse: 38811.4\tvalid_0's l2: 1.50633e+09\n",
      "[154]\tvalid_0's rmse: 38695.8\tvalid_0's l2: 1.49737e+09\n",
      "[155]\tvalid_0's rmse: 38574\tvalid_0's l2: 1.48796e+09\n",
      "[156]\tvalid_0's rmse: 38465.2\tvalid_0's l2: 1.47957e+09\n",
      "[157]\tvalid_0's rmse: 38347.8\tvalid_0's l2: 1.47056e+09\n",
      "[158]\tvalid_0's rmse: 38233.6\tvalid_0's l2: 1.46181e+09\n",
      "[159]\tvalid_0's rmse: 38110.8\tvalid_0's l2: 1.45243e+09\n",
      "[160]\tvalid_0's rmse: 38002.6\tvalid_0's l2: 1.44419e+09\n",
      "[161]\tvalid_0's rmse: 37888.3\tvalid_0's l2: 1.43552e+09\n",
      "[162]\tvalid_0's rmse: 37777.2\tvalid_0's l2: 1.42712e+09\n",
      "[163]\tvalid_0's rmse: 37678.3\tvalid_0's l2: 1.41965e+09\n",
      "[164]\tvalid_0's rmse: 37563.4\tvalid_0's l2: 1.41101e+09\n",
      "[165]\tvalid_0's rmse: 37454.3\tvalid_0's l2: 1.40282e+09\n",
      "[166]\tvalid_0's rmse: 37355.9\tvalid_0's l2: 1.39546e+09\n",
      "[167]\tvalid_0's rmse: 37250.2\tvalid_0's l2: 1.38758e+09\n",
      "[168]\tvalid_0's rmse: 37148.9\tvalid_0's l2: 1.38004e+09\n",
      "[169]\tvalid_0's rmse: 37039\tvalid_0's l2: 1.37189e+09\n",
      "[170]\tvalid_0's rmse: 36943.1\tvalid_0's l2: 1.36479e+09\n",
      "[171]\tvalid_0's rmse: 36845.8\tvalid_0's l2: 1.35762e+09\n",
      "[172]\tvalid_0's rmse: 36741.5\tvalid_0's l2: 1.34994e+09\n",
      "[173]\tvalid_0's rmse: 36644.5\tvalid_0's l2: 1.34282e+09\n",
      "[174]\tvalid_0's rmse: 36552\tvalid_0's l2: 1.33605e+09\n",
      "[175]\tvalid_0's rmse: 36461.5\tvalid_0's l2: 1.32944e+09\n",
      "[176]\tvalid_0's rmse: 36361.6\tvalid_0's l2: 1.32216e+09\n",
      "[177]\tvalid_0's rmse: 36268.3\tvalid_0's l2: 1.31539e+09\n",
      "[178]\tvalid_0's rmse: 36174.7\tvalid_0's l2: 1.30861e+09\n",
      "[179]\tvalid_0's rmse: 36076.2\tvalid_0's l2: 1.30149e+09\n",
      "[180]\tvalid_0's rmse: 35984\tvalid_0's l2: 1.29485e+09\n",
      "[181]\tvalid_0's rmse: 35896.5\tvalid_0's l2: 1.28856e+09\n",
      "[182]\tvalid_0's rmse: 35803.7\tvalid_0's l2: 1.2819e+09\n",
      "[183]\tvalid_0's rmse: 35718.6\tvalid_0's l2: 1.27582e+09\n",
      "[184]\tvalid_0's rmse: 35628.1\tvalid_0's l2: 1.26936e+09\n",
      "[185]\tvalid_0's rmse: 35533.1\tvalid_0's l2: 1.2626e+09\n",
      "[186]\tvalid_0's rmse: 35451.3\tvalid_0's l2: 1.25679e+09\n",
      "[187]\tvalid_0's rmse: 35370.6\tvalid_0's l2: 1.25108e+09\n",
      "[188]\tvalid_0's rmse: 35280.5\tvalid_0's l2: 1.24471e+09\n",
      "[189]\tvalid_0's rmse: 35192.6\tvalid_0's l2: 1.23852e+09\n",
      "[190]\tvalid_0's rmse: 35115.8\tvalid_0's l2: 1.23312e+09\n",
      "[191]\tvalid_0's rmse: 35039.7\tvalid_0's l2: 1.22778e+09\n",
      "[192]\tvalid_0's rmse: 34966.1\tvalid_0's l2: 1.22263e+09\n",
      "[193]\tvalid_0's rmse: 34886.3\tvalid_0's l2: 1.21705e+09\n",
      "[194]\tvalid_0's rmse: 34798.8\tvalid_0's l2: 1.21095e+09\n",
      "[195]\tvalid_0's rmse: 34725.9\tvalid_0's l2: 1.20589e+09\n",
      "[196]\tvalid_0's rmse: 34641.3\tvalid_0's l2: 1.20002e+09\n",
      "[197]\tvalid_0's rmse: 34566.4\tvalid_0's l2: 1.19484e+09\n",
      "[198]\tvalid_0's rmse: 34490\tvalid_0's l2: 1.18956e+09\n",
      "[199]\tvalid_0's rmse: 34415.3\tvalid_0's l2: 1.18441e+09\n",
      "[200]\tvalid_0's rmse: 34337\tvalid_0's l2: 1.17903e+09\n",
      "[201]\tvalid_0's rmse: 34264.5\tvalid_0's l2: 1.17406e+09\n",
      "[202]\tvalid_0's rmse: 34198.3\tvalid_0's l2: 1.16952e+09\n",
      "[203]\tvalid_0's rmse: 34124.3\tvalid_0's l2: 1.16447e+09\n",
      "[204]\tvalid_0's rmse: 34059.9\tvalid_0's l2: 1.16008e+09\n",
      "[205]\tvalid_0's rmse: 33983.1\tvalid_0's l2: 1.15485e+09\n",
      "[206]\tvalid_0's rmse: 33914.1\tvalid_0's l2: 1.15017e+09\n",
      "[207]\tvalid_0's rmse: 33842.5\tvalid_0's l2: 1.14532e+09\n",
      "[208]\tvalid_0's rmse: 33764.6\tvalid_0's l2: 1.14005e+09\n",
      "[209]\tvalid_0's rmse: 33705.6\tvalid_0's l2: 1.13607e+09\n",
      "[210]\tvalid_0's rmse: 33630.7\tvalid_0's l2: 1.13103e+09\n",
      "[211]\tvalid_0's rmse: 33575.4\tvalid_0's l2: 1.12731e+09\n",
      "[212]\tvalid_0's rmse: 33502.7\tvalid_0's l2: 1.12243e+09\n",
      "[213]\tvalid_0's rmse: 33433.8\tvalid_0's l2: 1.11782e+09\n",
      "[214]\tvalid_0's rmse: 33371.8\tvalid_0's l2: 1.11368e+09\n",
      "[215]\tvalid_0's rmse: 33312.3\tvalid_0's l2: 1.10971e+09\n",
      "[216]\tvalid_0's rmse: 33244.7\tvalid_0's l2: 1.10521e+09\n",
      "[217]\tvalid_0's rmse: 33185.1\tvalid_0's l2: 1.10125e+09\n",
      "[218]\tvalid_0's rmse: 33117.9\tvalid_0's l2: 1.09679e+09\n",
      "[219]\tvalid_0's rmse: 33061.7\tvalid_0's l2: 1.09307e+09\n",
      "[220]\tvalid_0's rmse: 33005.9\tvalid_0's l2: 1.08939e+09\n",
      "[221]\tvalid_0's rmse: 32952.1\tvalid_0's l2: 1.08584e+09\n",
      "[222]\tvalid_0's rmse: 32899.8\tvalid_0's l2: 1.0824e+09\n",
      "[223]\tvalid_0's rmse: 32840.7\tvalid_0's l2: 1.07851e+09\n",
      "[224]\tvalid_0's rmse: 32789.6\tvalid_0's l2: 1.07515e+09\n",
      "[225]\tvalid_0's rmse: 32725.4\tvalid_0's l2: 1.07095e+09\n",
      "[226]\tvalid_0's rmse: 32676.9\tvalid_0's l2: 1.06778e+09\n",
      "[227]\tvalid_0's rmse: 32629\tvalid_0's l2: 1.06465e+09\n",
      "[228]\tvalid_0's rmse: 32580.5\tvalid_0's l2: 1.06149e+09\n",
      "[229]\tvalid_0's rmse: 32523.1\tvalid_0's l2: 1.05775e+09\n",
      "[230]\tvalid_0's rmse: 32477.3\tvalid_0's l2: 1.05478e+09\n",
      "[231]\tvalid_0's rmse: 32430.2\tvalid_0's l2: 1.05172e+09\n",
      "[232]\tvalid_0's rmse: 32380.8\tvalid_0's l2: 1.04851e+09\n",
      "[233]\tvalid_0's rmse: 32327.8\tvalid_0's l2: 1.04508e+09\n",
      "[234]\tvalid_0's rmse: 32279.2\tvalid_0's l2: 1.04195e+09\n",
      "[235]\tvalid_0's rmse: 32233.6\tvalid_0's l2: 1.039e+09\n",
      "[236]\tvalid_0's rmse: 32176.2\tvalid_0's l2: 1.03531e+09\n",
      "[237]\tvalid_0's rmse: 32115.4\tvalid_0's l2: 1.0314e+09\n",
      "[238]\tvalid_0's rmse: 32074.2\tvalid_0's l2: 1.02875e+09\n",
      "[239]\tvalid_0's rmse: 32027.8\tvalid_0's l2: 1.02578e+09\n",
      "[240]\tvalid_0's rmse: 31984.2\tvalid_0's l2: 1.02299e+09\n",
      "[241]\tvalid_0's rmse: 31935.2\tvalid_0's l2: 1.01986e+09\n",
      "[242]\tvalid_0's rmse: 31891.6\tvalid_0's l2: 1.01707e+09\n",
      "[243]\tvalid_0's rmse: 31847.2\tvalid_0's l2: 1.01424e+09\n",
      "[244]\tvalid_0's rmse: 31798.6\tvalid_0's l2: 1.01115e+09\n",
      "[245]\tvalid_0's rmse: 31757.6\tvalid_0's l2: 1.00855e+09\n",
      "[246]\tvalid_0's rmse: 31701.2\tvalid_0's l2: 1.00497e+09\n",
      "[247]\tvalid_0's rmse: 31650\tvalid_0's l2: 1.00172e+09\n",
      "[248]\tvalid_0's rmse: 31593.4\tvalid_0's l2: 9.98141e+08\n",
      "[249]\tvalid_0's rmse: 31537.4\tvalid_0's l2: 9.94608e+08\n",
      "[250]\tvalid_0's rmse: 31482.1\tvalid_0's l2: 9.9112e+08\n",
      "[251]\tvalid_0's rmse: 31424.1\tvalid_0's l2: 9.87477e+08\n",
      "[252]\tvalid_0's rmse: 31381.5\tvalid_0's l2: 9.84798e+08\n",
      "[253]\tvalid_0's rmse: 31339.4\tvalid_0's l2: 9.82158e+08\n",
      "[254]\tvalid_0's rmse: 31297.2\tvalid_0's l2: 9.79516e+08\n",
      "[255]\tvalid_0's rmse: 31243.9\tvalid_0's l2: 9.7618e+08\n",
      "[256]\tvalid_0's rmse: 31191\tvalid_0's l2: 9.72878e+08\n",
      "[257]\tvalid_0's rmse: 31153\tvalid_0's l2: 9.70508e+08\n",
      "[258]\tvalid_0's rmse: 31102.8\tvalid_0's l2: 9.67387e+08\n",
      "[259]\tvalid_0's rmse: 31052.7\tvalid_0's l2: 9.64271e+08\n",
      "[260]\tvalid_0's rmse: 31021.4\tvalid_0's l2: 9.62326e+08\n",
      "[261]\tvalid_0's rmse: 30973.4\tvalid_0's l2: 9.59352e+08\n",
      "[262]\tvalid_0's rmse: 30924.6\tvalid_0's l2: 9.5633e+08\n",
      "[263]\tvalid_0's rmse: 30890.6\tvalid_0's l2: 9.54232e+08\n",
      "[264]\tvalid_0's rmse: 30847\tvalid_0's l2: 9.51535e+08\n",
      "[265]\tvalid_0's rmse: 30810.7\tvalid_0's l2: 9.49296e+08\n",
      "[266]\tvalid_0's rmse: 30781.1\tvalid_0's l2: 9.47474e+08\n",
      "[267]\tvalid_0's rmse: 30742.1\tvalid_0's l2: 9.4508e+08\n",
      "[268]\tvalid_0's rmse: 30707.4\tvalid_0's l2: 9.42941e+08\n",
      "[269]\tvalid_0's rmse: 30664.7\tvalid_0's l2: 9.40323e+08\n",
      "[270]\tvalid_0's rmse: 30636\tvalid_0's l2: 9.38562e+08\n",
      "[271]\tvalid_0's rmse: 30595.5\tvalid_0's l2: 9.36086e+08\n",
      "[272]\tvalid_0's rmse: 30555.7\tvalid_0's l2: 9.33653e+08\n",
      "[273]\tvalid_0's rmse: 30525\tvalid_0's l2: 9.31776e+08\n",
      "[274]\tvalid_0's rmse: 30484.6\tvalid_0's l2: 9.29308e+08\n",
      "[275]\tvalid_0's rmse: 30443.4\tvalid_0's l2: 9.26798e+08\n",
      "[276]\tvalid_0's rmse: 30417.6\tvalid_0's l2: 9.25231e+08\n",
      "[277]\tvalid_0's rmse: 30394.1\tvalid_0's l2: 9.23799e+08\n",
      "[278]\tvalid_0's rmse: 30355.9\tvalid_0's l2: 9.21481e+08\n",
      "[279]\tvalid_0's rmse: 30315.4\tvalid_0's l2: 9.19025e+08\n",
      "[280]\tvalid_0's rmse: 30290.8\tvalid_0's l2: 9.1753e+08\n",
      "[281]\tvalid_0's rmse: 30259.1\tvalid_0's l2: 9.15615e+08\n",
      "[282]\tvalid_0's rmse: 30236.1\tvalid_0's l2: 9.1422e+08\n",
      "[283]\tvalid_0's rmse: 30190.5\tvalid_0's l2: 9.11467e+08\n",
      "[284]\tvalid_0's rmse: 30169.5\tvalid_0's l2: 9.10198e+08\n",
      "[285]\tvalid_0's rmse: 30134.7\tvalid_0's l2: 9.08102e+08\n",
      "[286]\tvalid_0's rmse: 30104.3\tvalid_0's l2: 9.06269e+08\n",
      "[287]\tvalid_0's rmse: 30063.5\tvalid_0's l2: 9.03816e+08\n",
      "[288]\tvalid_0's rmse: 30023.2\tvalid_0's l2: 9.01393e+08\n",
      "[289]\tvalid_0's rmse: 29999.3\tvalid_0's l2: 8.99959e+08\n",
      "[290]\tvalid_0's rmse: 29960.7\tvalid_0's l2: 8.97642e+08\n",
      "[291]\tvalid_0's rmse: 29922.3\tvalid_0's l2: 8.95341e+08\n",
      "[292]\tvalid_0's rmse: 29890.5\tvalid_0's l2: 8.93439e+08\n",
      "[293]\tvalid_0's rmse: 29853\tvalid_0's l2: 8.91201e+08\n",
      "[294]\tvalid_0's rmse: 29826.4\tvalid_0's l2: 8.89612e+08\n",
      "[295]\tvalid_0's rmse: 29796.3\tvalid_0's l2: 8.8782e+08\n",
      "[296]\tvalid_0's rmse: 29772.5\tvalid_0's l2: 8.86401e+08\n",
      "[297]\tvalid_0's rmse: 29743\tvalid_0's l2: 8.84645e+08\n",
      "[298]\tvalid_0's rmse: 29716.4\tvalid_0's l2: 8.83067e+08\n",
      "[299]\tvalid_0's rmse: 29695.6\tvalid_0's l2: 8.81831e+08\n",
      "[300]\tvalid_0's rmse: 29668.4\tvalid_0's l2: 8.80214e+08\n",
      "[301]\tvalid_0's rmse: 29647.5\tvalid_0's l2: 8.78973e+08\n",
      "[302]\tvalid_0's rmse: 29622.9\tvalid_0's l2: 8.77519e+08\n",
      "[303]\tvalid_0's rmse: 29599.2\tvalid_0's l2: 8.76112e+08\n",
      "[304]\tvalid_0's rmse: 29573.1\tvalid_0's l2: 8.74567e+08\n",
      "[305]\tvalid_0's rmse: 29548.5\tvalid_0's l2: 8.73115e+08\n",
      "[306]\tvalid_0's rmse: 29523.2\tvalid_0's l2: 8.7162e+08\n",
      "[307]\tvalid_0's rmse: 29493\tvalid_0's l2: 8.69837e+08\n",
      "[308]\tvalid_0's rmse: 29469.1\tvalid_0's l2: 8.68427e+08\n",
      "[309]\tvalid_0's rmse: 29447.3\tvalid_0's l2: 8.67146e+08\n",
      "[310]\tvalid_0's rmse: 29423.3\tvalid_0's l2: 8.65731e+08\n",
      "[311]\tvalid_0's rmse: 29404.4\tvalid_0's l2: 8.64619e+08\n",
      "[312]\tvalid_0's rmse: 29383.6\tvalid_0's l2: 8.63398e+08\n",
      "[313]\tvalid_0's rmse: 29348.4\tvalid_0's l2: 8.61328e+08\n",
      "[314]\tvalid_0's rmse: 29330.6\tvalid_0's l2: 8.60286e+08\n",
      "[315]\tvalid_0's rmse: 29298.2\tvalid_0's l2: 8.58382e+08\n",
      "[316]\tvalid_0's rmse: 29279.1\tvalid_0's l2: 8.57264e+08\n",
      "[317]\tvalid_0's rmse: 29262.5\tvalid_0's l2: 8.56291e+08\n",
      "[318]\tvalid_0's rmse: 29239.1\tvalid_0's l2: 8.54922e+08\n",
      "[319]\tvalid_0's rmse: 29219.7\tvalid_0's l2: 8.53794e+08\n",
      "[320]\tvalid_0's rmse: 29195.8\tvalid_0's l2: 8.52397e+08\n",
      "[321]\tvalid_0's rmse: 29174.4\tvalid_0's l2: 8.51144e+08\n",
      "[322]\tvalid_0's rmse: 29152.9\tvalid_0's l2: 8.4989e+08\n",
      "[323]\tvalid_0's rmse: 29131.2\tvalid_0's l2: 8.4863e+08\n",
      "[324]\tvalid_0's rmse: 29112.4\tvalid_0's l2: 8.47532e+08\n",
      "[325]\tvalid_0's rmse: 29086.9\tvalid_0's l2: 8.46046e+08\n",
      "[326]\tvalid_0's rmse: 29065.6\tvalid_0's l2: 8.44809e+08\n",
      "[327]\tvalid_0's rmse: 29040.6\tvalid_0's l2: 8.43356e+08\n",
      "[328]\tvalid_0's rmse: 29023.2\tvalid_0's l2: 8.42346e+08\n",
      "[329]\tvalid_0's rmse: 28989.3\tvalid_0's l2: 8.40379e+08\n",
      "[330]\tvalid_0's rmse: 28965.5\tvalid_0's l2: 8.39003e+08\n",
      "[331]\tvalid_0's rmse: 28942.3\tvalid_0's l2: 8.37658e+08\n",
      "[332]\tvalid_0's rmse: 28925.6\tvalid_0's l2: 8.36692e+08\n",
      "[333]\tvalid_0's rmse: 28906.4\tvalid_0's l2: 8.35579e+08\n",
      "[334]\tvalid_0's rmse: 28883\tvalid_0's l2: 8.34229e+08\n",
      "[335]\tvalid_0's rmse: 28865.9\tvalid_0's l2: 8.33241e+08\n",
      "[336]\tvalid_0's rmse: 28848.1\tvalid_0's l2: 8.32214e+08\n",
      "[337]\tvalid_0's rmse: 28828.6\tvalid_0's l2: 8.31091e+08\n",
      "[338]\tvalid_0's rmse: 28799.2\tvalid_0's l2: 8.29391e+08\n",
      "[339]\tvalid_0's rmse: 28784.7\tvalid_0's l2: 8.2856e+08\n",
      "[340]\tvalid_0's rmse: 28765.3\tvalid_0's l2: 8.27444e+08\n",
      "[341]\tvalid_0's rmse: 28751.5\tvalid_0's l2: 8.26646e+08\n",
      "[342]\tvalid_0's rmse: 28737.4\tvalid_0's l2: 8.25837e+08\n",
      "[343]\tvalid_0's rmse: 28716\tvalid_0's l2: 8.24607e+08\n",
      "[344]\tvalid_0's rmse: 28712.9\tvalid_0's l2: 8.24432e+08\n",
      "[345]\tvalid_0's rmse: 28696.2\tvalid_0's l2: 8.2347e+08\n",
      "[346]\tvalid_0's rmse: 28693.3\tvalid_0's l2: 8.23306e+08\n",
      "[347]\tvalid_0's rmse: 28667.2\tvalid_0's l2: 8.21811e+08\n",
      "[348]\tvalid_0's rmse: 28646.2\tvalid_0's l2: 8.20605e+08\n",
      "[349]\tvalid_0's rmse: 28644.1\tvalid_0's l2: 8.20482e+08\n",
      "[350]\tvalid_0's rmse: 28634.8\tvalid_0's l2: 8.19949e+08\n",
      "[351]\tvalid_0's rmse: 28608.5\tvalid_0's l2: 8.18444e+08\n",
      "[352]\tvalid_0's rmse: 28594.6\tvalid_0's l2: 8.17653e+08\n",
      "[353]\tvalid_0's rmse: 28581.6\tvalid_0's l2: 8.16907e+08\n",
      "[354]\tvalid_0's rmse: 28555.9\tvalid_0's l2: 8.1544e+08\n",
      "[355]\tvalid_0's rmse: 28534\tvalid_0's l2: 8.14191e+08\n",
      "[356]\tvalid_0's rmse: 28524.7\tvalid_0's l2: 8.13656e+08\n",
      "[357]\tvalid_0's rmse: 28502.6\tvalid_0's l2: 8.12396e+08\n",
      "[358]\tvalid_0's rmse: 28487.2\tvalid_0's l2: 8.11522e+08\n",
      "[359]\tvalid_0's rmse: 28474.6\tvalid_0's l2: 8.10801e+08\n",
      "[360]\tvalid_0's rmse: 28453.9\tvalid_0's l2: 8.09625e+08\n",
      "[361]\tvalid_0's rmse: 28444.9\tvalid_0's l2: 8.09112e+08\n",
      "[362]\tvalid_0's rmse: 28424.6\tvalid_0's l2: 8.07958e+08\n",
      "[363]\tvalid_0's rmse: 28412.7\tvalid_0's l2: 8.07279e+08\n",
      "[364]\tvalid_0's rmse: 28383.7\tvalid_0's l2: 8.05632e+08\n",
      "[365]\tvalid_0's rmse: 28367.4\tvalid_0's l2: 8.04709e+08\n",
      "[366]\tvalid_0's rmse: 28354.9\tvalid_0's l2: 8.04001e+08\n",
      "[367]\tvalid_0's rmse: 28337.4\tvalid_0's l2: 8.03005e+08\n",
      "[368]\tvalid_0's rmse: 28324.4\tvalid_0's l2: 8.02274e+08\n",
      "[369]\tvalid_0's rmse: 28314.8\tvalid_0's l2: 8.01727e+08\n",
      "[370]\tvalid_0's rmse: 28303.5\tvalid_0's l2: 8.01087e+08\n",
      "[371]\tvalid_0's rmse: 28277.7\tvalid_0's l2: 7.99626e+08\n",
      "[372]\tvalid_0's rmse: 28269.6\tvalid_0's l2: 7.9917e+08\n",
      "[373]\tvalid_0's rmse: 28261.3\tvalid_0's l2: 7.98704e+08\n",
      "[374]\tvalid_0's rmse: 28249.1\tvalid_0's l2: 7.98009e+08\n",
      "[375]\tvalid_0's rmse: 28239.6\tvalid_0's l2: 7.97476e+08\n",
      "[376]\tvalid_0's rmse: 28218.8\tvalid_0's l2: 7.96299e+08\n",
      "[377]\tvalid_0's rmse: 28212.7\tvalid_0's l2: 7.95957e+08\n",
      "[378]\tvalid_0's rmse: 28205\tvalid_0's l2: 7.9552e+08\n",
      "[379]\tvalid_0's rmse: 28191.8\tvalid_0's l2: 7.94775e+08\n",
      "[380]\tvalid_0's rmse: 28183\tvalid_0's l2: 7.94281e+08\n",
      "[381]\tvalid_0's rmse: 28157\tvalid_0's l2: 7.92815e+08\n",
      "[382]\tvalid_0's rmse: 28144.6\tvalid_0's l2: 7.92121e+08\n",
      "[383]\tvalid_0's rmse: 28128.9\tvalid_0's l2: 7.91238e+08\n",
      "[384]\tvalid_0's rmse: 28122.7\tvalid_0's l2: 7.90884e+08\n",
      "[385]\tvalid_0's rmse: 28101.7\tvalid_0's l2: 7.89703e+08\n",
      "[386]\tvalid_0's rmse: 28095.5\tvalid_0's l2: 7.89359e+08\n",
      "[387]\tvalid_0's rmse: 28079.8\tvalid_0's l2: 7.88477e+08\n",
      "[388]\tvalid_0's rmse: 28059.8\tvalid_0's l2: 7.87352e+08\n",
      "[389]\tvalid_0's rmse: 28051.1\tvalid_0's l2: 7.86863e+08\n",
      "[390]\tvalid_0's rmse: 28033\tvalid_0's l2: 7.85848e+08\n",
      "[391]\tvalid_0's rmse: 28027.7\tvalid_0's l2: 7.8555e+08\n",
      "[392]\tvalid_0's rmse: 28016\tvalid_0's l2: 7.84897e+08\n",
      "[393]\tvalid_0's rmse: 27998.4\tvalid_0's l2: 7.83912e+08\n",
      "[394]\tvalid_0's rmse: 27987.9\tvalid_0's l2: 7.8332e+08\n",
      "[395]\tvalid_0's rmse: 27968.6\tvalid_0's l2: 7.82243e+08\n",
      "[396]\tvalid_0's rmse: 27959.7\tvalid_0's l2: 7.81747e+08\n",
      "[397]\tvalid_0's rmse: 27949\tvalid_0's l2: 7.81145e+08\n",
      "[398]\tvalid_0's rmse: 27930.1\tvalid_0's l2: 7.80093e+08\n",
      "[399]\tvalid_0's rmse: 27921.2\tvalid_0's l2: 7.79592e+08\n",
      "[400]\tvalid_0's rmse: 27902.4\tvalid_0's l2: 7.78545e+08\n",
      "[401]\tvalid_0's rmse: 27894.3\tvalid_0's l2: 7.78092e+08\n",
      "[402]\tvalid_0's rmse: 27887.7\tvalid_0's l2: 7.77721e+08\n",
      "[403]\tvalid_0's rmse: 27879.7\tvalid_0's l2: 7.77276e+08\n",
      "[404]\tvalid_0's rmse: 27865.7\tvalid_0's l2: 7.76498e+08\n",
      "[405]\tvalid_0's rmse: 27850.1\tvalid_0's l2: 7.75627e+08\n",
      "[406]\tvalid_0's rmse: 27847\tvalid_0's l2: 7.75454e+08\n",
      "[407]\tvalid_0's rmse: 27837.9\tvalid_0's l2: 7.74951e+08\n",
      "[408]\tvalid_0's rmse: 27828.5\tvalid_0's l2: 7.74425e+08\n",
      "[409]\tvalid_0's rmse: 27814.1\tvalid_0's l2: 7.73625e+08\n",
      "[410]\tvalid_0's rmse: 27811.2\tvalid_0's l2: 7.73463e+08\n",
      "[411]\tvalid_0's rmse: 27797.8\tvalid_0's l2: 7.72715e+08\n",
      "[412]\tvalid_0's rmse: 27793.7\tvalid_0's l2: 7.72489e+08\n",
      "[413]\tvalid_0's rmse: 27779.2\tvalid_0's l2: 7.71685e+08\n",
      "[414]\tvalid_0's rmse: 27772.8\tvalid_0's l2: 7.71331e+08\n",
      "[415]\tvalid_0's rmse: 27764.1\tvalid_0's l2: 7.70842e+08\n",
      "[416]\tvalid_0's rmse: 27758.4\tvalid_0's l2: 7.70527e+08\n",
      "[417]\tvalid_0's rmse: 27747.3\tvalid_0's l2: 7.69915e+08\n",
      "[418]\tvalid_0's rmse: 27745.5\tvalid_0's l2: 7.69811e+08\n",
      "[419]\tvalid_0's rmse: 27736\tvalid_0's l2: 7.69286e+08\n",
      "[420]\tvalid_0's rmse: 27731.7\tvalid_0's l2: 7.69049e+08\n",
      "[421]\tvalid_0's rmse: 27714.9\tvalid_0's l2: 7.68116e+08\n",
      "[422]\tvalid_0's rmse: 27700.9\tvalid_0's l2: 7.6734e+08\n",
      "[423]\tvalid_0's rmse: 27692.8\tvalid_0's l2: 7.66892e+08\n",
      "[424]\tvalid_0's rmse: 27679.1\tvalid_0's l2: 7.66134e+08\n",
      "[425]\tvalid_0's rmse: 27661.3\tvalid_0's l2: 7.65147e+08\n",
      "[426]\tvalid_0's rmse: 27656.4\tvalid_0's l2: 7.64879e+08\n",
      "[427]\tvalid_0's rmse: 27641.3\tvalid_0's l2: 7.6404e+08\n",
      "[428]\tvalid_0's rmse: 27631.3\tvalid_0's l2: 7.63487e+08\n",
      "[429]\tvalid_0's rmse: 27622.1\tvalid_0's l2: 7.62983e+08\n",
      "[430]\tvalid_0's rmse: 27609.3\tvalid_0's l2: 7.62273e+08\n",
      "[431]\tvalid_0's rmse: 27601.6\tvalid_0's l2: 7.61848e+08\n",
      "[432]\tvalid_0's rmse: 27588.8\tvalid_0's l2: 7.61144e+08\n",
      "[433]\tvalid_0's rmse: 27579.6\tvalid_0's l2: 7.60633e+08\n",
      "[434]\tvalid_0's rmse: 27566.8\tvalid_0's l2: 7.5993e+08\n",
      "[435]\tvalid_0's rmse: 27552.6\tvalid_0's l2: 7.59147e+08\n",
      "[436]\tvalid_0's rmse: 27539\tvalid_0's l2: 7.58397e+08\n",
      "[437]\tvalid_0's rmse: 27534\tvalid_0's l2: 7.58124e+08\n",
      "[438]\tvalid_0's rmse: 27524.8\tvalid_0's l2: 7.57615e+08\n",
      "[439]\tvalid_0's rmse: 27510\tvalid_0's l2: 7.56798e+08\n",
      "[440]\tvalid_0's rmse: 27506.5\tvalid_0's l2: 7.56607e+08\n",
      "[441]\tvalid_0's rmse: 27495.7\tvalid_0's l2: 7.56012e+08\n",
      "[442]\tvalid_0's rmse: 27485.8\tvalid_0's l2: 7.55471e+08\n",
      "[443]\tvalid_0's rmse: 27471.5\tvalid_0's l2: 7.54683e+08\n",
      "[444]\tvalid_0's rmse: 27462.5\tvalid_0's l2: 7.54186e+08\n",
      "[445]\tvalid_0's rmse: 27450.4\tvalid_0's l2: 7.53522e+08\n",
      "[446]\tvalid_0's rmse: 27440.5\tvalid_0's l2: 7.52982e+08\n",
      "[447]\tvalid_0's rmse: 27428.4\tvalid_0's l2: 7.52319e+08\n",
      "[448]\tvalid_0's rmse: 27417.6\tvalid_0's l2: 7.51723e+08\n",
      "[449]\tvalid_0's rmse: 27400.2\tvalid_0's l2: 7.50771e+08\n",
      "[450]\tvalid_0's rmse: 27394.3\tvalid_0's l2: 7.5045e+08\n",
      "[451]\tvalid_0's rmse: 27383\tvalid_0's l2: 7.49826e+08\n",
      "[452]\tvalid_0's rmse: 27370.4\tvalid_0's l2: 7.49136e+08\n",
      "[453]\tvalid_0's rmse: 27354.3\tvalid_0's l2: 7.48257e+08\n",
      "[454]\tvalid_0's rmse: 27347.1\tvalid_0's l2: 7.47864e+08\n",
      "[455]\tvalid_0's rmse: 27336.2\tvalid_0's l2: 7.47269e+08\n",
      "[456]\tvalid_0's rmse: 27322.6\tvalid_0's l2: 7.46527e+08\n",
      "[457]\tvalid_0's rmse: 27315\tvalid_0's l2: 7.46108e+08\n",
      "[458]\tvalid_0's rmse: 27306.2\tvalid_0's l2: 7.45631e+08\n",
      "[459]\tvalid_0's rmse: 27292.4\tvalid_0's l2: 7.44878e+08\n",
      "[460]\tvalid_0's rmse: 27284.3\tvalid_0's l2: 7.44431e+08\n",
      "[461]\tvalid_0's rmse: 27272.7\tvalid_0's l2: 7.438e+08\n",
      "[462]\tvalid_0's rmse: 27260.6\tvalid_0's l2: 7.4314e+08\n",
      "[463]\tvalid_0's rmse: 27250\tvalid_0's l2: 7.42565e+08\n",
      "[464]\tvalid_0's rmse: 27237.1\tvalid_0's l2: 7.4186e+08\n",
      "[465]\tvalid_0's rmse: 27226.8\tvalid_0's l2: 7.41299e+08\n",
      "[466]\tvalid_0's rmse: 27221.5\tvalid_0's l2: 7.41013e+08\n",
      "[467]\tvalid_0's rmse: 27208.3\tvalid_0's l2: 7.40294e+08\n",
      "[468]\tvalid_0's rmse: 27202.6\tvalid_0's l2: 7.39983e+08\n",
      "[469]\tvalid_0's rmse: 27193.3\tvalid_0's l2: 7.39477e+08\n",
      "[470]\tvalid_0's rmse: 27183.4\tvalid_0's l2: 7.38936e+08\n",
      "[471]\tvalid_0's rmse: 27178.2\tvalid_0's l2: 7.38652e+08\n",
      "[472]\tvalid_0's rmse: 27168.8\tvalid_0's l2: 7.38141e+08\n",
      "[473]\tvalid_0's rmse: 27155.9\tvalid_0's l2: 7.37442e+08\n",
      "[474]\tvalid_0's rmse: 27143.9\tvalid_0's l2: 7.3679e+08\n",
      "[475]\tvalid_0's rmse: 27134.3\tvalid_0's l2: 7.36268e+08\n",
      "[476]\tvalid_0's rmse: 27122.9\tvalid_0's l2: 7.35652e+08\n",
      "[477]\tvalid_0's rmse: 27117.9\tvalid_0's l2: 7.3538e+08\n",
      "[478]\tvalid_0's rmse: 27104.7\tvalid_0's l2: 7.34665e+08\n",
      "[479]\tvalid_0's rmse: 27095.9\tvalid_0's l2: 7.34186e+08\n",
      "[480]\tvalid_0's rmse: 27085.3\tvalid_0's l2: 7.33615e+08\n",
      "[481]\tvalid_0's rmse: 27080.2\tvalid_0's l2: 7.33336e+08\n",
      "[482]\tvalid_0's rmse: 27069.4\tvalid_0's l2: 7.3275e+08\n",
      "[483]\tvalid_0's rmse: 27059.7\tvalid_0's l2: 7.32226e+08\n",
      "[484]\tvalid_0's rmse: 27048.6\tvalid_0's l2: 7.31626e+08\n",
      "[485]\tvalid_0's rmse: 27039.2\tvalid_0's l2: 7.31119e+08\n",
      "[486]\tvalid_0's rmse: 27034.6\tvalid_0's l2: 7.3087e+08\n",
      "[487]\tvalid_0's rmse: 27025.8\tvalid_0's l2: 7.30396e+08\n",
      "[488]\tvalid_0's rmse: 27018\tvalid_0's l2: 7.29971e+08\n",
      "[489]\tvalid_0's rmse: 27015.1\tvalid_0's l2: 7.29815e+08\n",
      "[490]\tvalid_0's rmse: 27019.6\tvalid_0's l2: 7.30058e+08\n",
      "[491]\tvalid_0's rmse: 27008.2\tvalid_0's l2: 7.29445e+08\n",
      "[492]\tvalid_0's rmse: 27000.6\tvalid_0's l2: 7.29032e+08\n",
      "[493]\tvalid_0's rmse: 27001\tvalid_0's l2: 7.29055e+08\n",
      "[494]\tvalid_0's rmse: 26997.3\tvalid_0's l2: 7.28855e+08\n",
      "[495]\tvalid_0's rmse: 26986.3\tvalid_0's l2: 7.28261e+08\n",
      "[496]\tvalid_0's rmse: 26987\tvalid_0's l2: 7.283e+08\n",
      "[497]\tvalid_0's rmse: 26980.9\tvalid_0's l2: 7.27969e+08\n",
      "[498]\tvalid_0's rmse: 26986.9\tvalid_0's l2: 7.28292e+08\n",
      "[499]\tvalid_0's rmse: 26976.8\tvalid_0's l2: 7.2775e+08\n",
      "[500]\tvalid_0's rmse: 26968.1\tvalid_0's l2: 7.27281e+08\n",
      "[501]\tvalid_0's rmse: 26969.3\tvalid_0's l2: 7.27344e+08\n",
      "[502]\tvalid_0's rmse: 26960.3\tvalid_0's l2: 7.26855e+08\n",
      "[503]\tvalid_0's rmse: 26951.7\tvalid_0's l2: 7.26395e+08\n",
      "[504]\tvalid_0's rmse: 26952.4\tvalid_0's l2: 7.26432e+08\n",
      "[505]\tvalid_0's rmse: 26943.6\tvalid_0's l2: 7.25959e+08\n",
      "[506]\tvalid_0's rmse: 26949.9\tvalid_0's l2: 7.26295e+08\n",
      "[507]\tvalid_0's rmse: 26942.5\tvalid_0's l2: 7.25896e+08\n",
      "[508]\tvalid_0's rmse: 26947.2\tvalid_0's l2: 7.26151e+08\n",
      "[509]\tvalid_0's rmse: 26938.2\tvalid_0's l2: 7.25669e+08\n",
      "[510]\tvalid_0's rmse: 26930.2\tvalid_0's l2: 7.25233e+08\n",
      "[511]\tvalid_0's rmse: 26932.1\tvalid_0's l2: 7.25336e+08\n",
      "[512]\tvalid_0's rmse: 26922.8\tvalid_0's l2: 7.24837e+08\n",
      "[513]\tvalid_0's rmse: 26916.3\tvalid_0's l2: 7.24485e+08\n",
      "[514]\tvalid_0's rmse: 26925.9\tvalid_0's l2: 7.25003e+08\n",
      "[515]\tvalid_0's rmse: 26918.7\tvalid_0's l2: 7.24617e+08\n",
      "[516]\tvalid_0's rmse: 26911.8\tvalid_0's l2: 7.24247e+08\n",
      "[517]\tvalid_0's rmse: 26913.4\tvalid_0's l2: 7.24329e+08\n",
      "[518]\tvalid_0's rmse: 26906.5\tvalid_0's l2: 7.23962e+08\n",
      "[519]\tvalid_0's rmse: 26897.6\tvalid_0's l2: 7.23481e+08\n",
      "[520]\tvalid_0's rmse: 26890.1\tvalid_0's l2: 7.2308e+08\n",
      "[521]\tvalid_0's rmse: 26885.7\tvalid_0's l2: 7.22842e+08\n",
      "[522]\tvalid_0's rmse: 26893.5\tvalid_0's l2: 7.23262e+08\n",
      "[523]\tvalid_0's rmse: 26887.5\tvalid_0's l2: 7.22938e+08\n",
      "[524]\tvalid_0's rmse: 26889.7\tvalid_0's l2: 7.23058e+08\n",
      "[525]\tvalid_0's rmse: 26882.2\tvalid_0's l2: 7.22653e+08\n",
      "[526]\tvalid_0's rmse: 26876.4\tvalid_0's l2: 7.2234e+08\n",
      "[527]\tvalid_0's rmse: 26879.5\tvalid_0's l2: 7.2251e+08\n",
      "[528]\tvalid_0's rmse: 26877.1\tvalid_0's l2: 7.22378e+08\n",
      "[529]\tvalid_0's rmse: 26871\tvalid_0's l2: 7.2205e+08\n",
      "[530]\tvalid_0's rmse: 26880.7\tvalid_0's l2: 7.2257e+08\n",
      "[531]\tvalid_0's rmse: 26872.4\tvalid_0's l2: 7.22129e+08\n",
      "[532]\tvalid_0's rmse: 26872.8\tvalid_0's l2: 7.22147e+08\n",
      "[533]\tvalid_0's rmse: 26864.7\tvalid_0's l2: 7.21713e+08\n",
      "[534]\tvalid_0's rmse: 26857.1\tvalid_0's l2: 7.21306e+08\n",
      "[535]\tvalid_0's rmse: 26857.2\tvalid_0's l2: 7.21311e+08\n",
      "[536]\tvalid_0's rmse: 26861.5\tvalid_0's l2: 7.21538e+08\n",
      "[537]\tvalid_0's rmse: 26857.5\tvalid_0's l2: 7.21327e+08\n",
      "[538]\tvalid_0's rmse: 26852.3\tvalid_0's l2: 7.21045e+08\n",
      "[539]\tvalid_0's rmse: 26858.4\tvalid_0's l2: 7.21372e+08\n",
      "[540]\tvalid_0's rmse: 26855.2\tvalid_0's l2: 7.21203e+08\n",
      "[541]\tvalid_0's rmse: 26852.6\tvalid_0's l2: 7.2106e+08\n",
      "[542]\tvalid_0's rmse: 26856.9\tvalid_0's l2: 7.21294e+08\n",
      "[543]\tvalid_0's rmse: 26848.7\tvalid_0's l2: 7.20854e+08\n",
      "[544]\tvalid_0's rmse: 26849.1\tvalid_0's l2: 7.20876e+08\n",
      "[545]\tvalid_0's rmse: 26846.1\tvalid_0's l2: 7.20712e+08\n",
      "[546]\tvalid_0's rmse: 26836.3\tvalid_0's l2: 7.20186e+08\n",
      "[547]\tvalid_0's rmse: 26841\tvalid_0's l2: 7.20439e+08\n",
      "[548]\tvalid_0's rmse: 26840.2\tvalid_0's l2: 7.20398e+08\n",
      "[549]\tvalid_0's rmse: 26844.7\tvalid_0's l2: 7.2064e+08\n",
      "[550]\tvalid_0's rmse: 26841.1\tvalid_0's l2: 7.20444e+08\n",
      "[551]\tvalid_0's rmse: 26845.7\tvalid_0's l2: 7.20694e+08\n",
      "[552]\tvalid_0's rmse: 26842.6\tvalid_0's l2: 7.20526e+08\n",
      "[553]\tvalid_0's rmse: 26838.2\tvalid_0's l2: 7.20288e+08\n",
      "[554]\tvalid_0's rmse: 26847.6\tvalid_0's l2: 7.20796e+08\n",
      "[555]\tvalid_0's rmse: 26849.2\tvalid_0's l2: 7.2088e+08\n",
      "[556]\tvalid_0's rmse: 26845.5\tvalid_0's l2: 7.20678e+08\n",
      "[557]\tvalid_0's rmse: 26843.2\tvalid_0's l2: 7.2056e+08\n",
      "[558]\tvalid_0's rmse: 26840.1\tvalid_0's l2: 7.2039e+08\n",
      "[559]\tvalid_0's rmse: 26842.9\tvalid_0's l2: 7.20542e+08\n",
      "[560]\tvalid_0's rmse: 26843\tvalid_0's l2: 7.20548e+08\n",
      "[561]\tvalid_0's rmse: 26845.5\tvalid_0's l2: 7.20681e+08\n",
      "[562]\tvalid_0's rmse: 26843.6\tvalid_0's l2: 7.20577e+08\n",
      "[563]\tvalid_0's rmse: 26847.2\tvalid_0's l2: 7.20774e+08\n",
      "[564]\tvalid_0's rmse: 26840.3\tvalid_0's l2: 7.20402e+08\n",
      "[565]\tvalid_0's rmse: 26837.6\tvalid_0's l2: 7.20259e+08\n",
      "[566]\tvalid_0's rmse: 26833.1\tvalid_0's l2: 7.20018e+08\n",
      "[567]\tvalid_0's rmse: 26823.8\tvalid_0's l2: 7.19518e+08\n",
      "[568]\tvalid_0's rmse: 26814.9\tvalid_0's l2: 7.19037e+08\n",
      "[569]\tvalid_0's rmse: 26814.8\tvalid_0's l2: 7.19031e+08\n",
      "[570]\tvalid_0's rmse: 26820.8\tvalid_0's l2: 7.19357e+08\n",
      "[571]\tvalid_0's rmse: 26818.7\tvalid_0's l2: 7.19241e+08\n",
      "[572]\tvalid_0's rmse: 26821.6\tvalid_0's l2: 7.19398e+08\n",
      "[573]\tvalid_0's rmse: 26819.3\tvalid_0's l2: 7.19277e+08\n",
      "[574]\tvalid_0's rmse: 26815.6\tvalid_0's l2: 7.19078e+08\n",
      "[575]\tvalid_0's rmse: 26824.4\tvalid_0's l2: 7.19547e+08\n",
      "[576]\tvalid_0's rmse: 26817.9\tvalid_0's l2: 7.192e+08\n",
      "[577]\tvalid_0's rmse: 26809\tvalid_0's l2: 7.1872e+08\n",
      "[578]\tvalid_0's rmse: 26806.4\tvalid_0's l2: 7.18582e+08\n",
      "[579]\tvalid_0's rmse: 26805.7\tvalid_0's l2: 7.18548e+08\n",
      "[580]\tvalid_0's rmse: 26811.8\tvalid_0's l2: 7.18874e+08\n",
      "[581]\tvalid_0's rmse: 26808.5\tvalid_0's l2: 7.18695e+08\n",
      "[582]\tvalid_0's rmse: 26802.3\tvalid_0's l2: 7.18361e+08\n",
      "[583]\tvalid_0's rmse: 26804.2\tvalid_0's l2: 7.18466e+08\n",
      "[584]\tvalid_0's rmse: 26794.5\tvalid_0's l2: 7.17945e+08\n",
      "[585]\tvalid_0's rmse: 26786.6\tvalid_0's l2: 7.17524e+08\n",
      "[586]\tvalid_0's rmse: 26786.4\tvalid_0's l2: 7.17512e+08\n",
      "[587]\tvalid_0's rmse: 26792.5\tvalid_0's l2: 7.1784e+08\n",
      "[588]\tvalid_0's rmse: 26792.1\tvalid_0's l2: 7.17818e+08\n",
      "[589]\tvalid_0's rmse: 26787\tvalid_0's l2: 7.17542e+08\n",
      "[590]\tvalid_0's rmse: 26781\tvalid_0's l2: 7.1722e+08\n",
      "[591]\tvalid_0's rmse: 26780.8\tvalid_0's l2: 7.17214e+08\n",
      "[592]\tvalid_0's rmse: 26783.4\tvalid_0's l2: 7.17352e+08\n",
      "[593]\tvalid_0's rmse: 26783.6\tvalid_0's l2: 7.17362e+08\n",
      "[594]\tvalid_0's rmse: 26781.4\tvalid_0's l2: 7.17244e+08\n",
      "[595]\tvalid_0's rmse: 26778.6\tvalid_0's l2: 7.17092e+08\n",
      "[596]\tvalid_0's rmse: 26778.5\tvalid_0's l2: 7.17089e+08\n",
      "[597]\tvalid_0's rmse: 26774.1\tvalid_0's l2: 7.16855e+08\n",
      "[598]\tvalid_0's rmse: 26774.9\tvalid_0's l2: 7.16894e+08\n",
      "[599]\tvalid_0's rmse: 26775.7\tvalid_0's l2: 7.16941e+08\n",
      "[600]\tvalid_0's rmse: 26773.6\tvalid_0's l2: 7.16827e+08\n",
      "[601]\tvalid_0's rmse: 26771.9\tvalid_0's l2: 7.16737e+08\n",
      "[602]\tvalid_0's rmse: 26764.4\tvalid_0's l2: 7.16334e+08\n",
      "[603]\tvalid_0's rmse: 26761.7\tvalid_0's l2: 7.16189e+08\n",
      "[604]\tvalid_0's rmse: 26757.5\tvalid_0's l2: 7.15963e+08\n",
      "[605]\tvalid_0's rmse: 26752.8\tvalid_0's l2: 7.15715e+08\n",
      "[606]\tvalid_0's rmse: 26750.8\tvalid_0's l2: 7.15607e+08\n",
      "[607]\tvalid_0's rmse: 26744.8\tvalid_0's l2: 7.15286e+08\n",
      "[608]\tvalid_0's rmse: 26743.6\tvalid_0's l2: 7.15218e+08\n",
      "[609]\tvalid_0's rmse: 26739.8\tvalid_0's l2: 7.15015e+08\n",
      "[610]\tvalid_0's rmse: 26738.5\tvalid_0's l2: 7.14947e+08\n",
      "[611]\tvalid_0's rmse: 26733.2\tvalid_0's l2: 7.14665e+08\n",
      "[612]\tvalid_0's rmse: 26733.2\tvalid_0's l2: 7.14663e+08\n",
      "[613]\tvalid_0's rmse: 26729.5\tvalid_0's l2: 7.14468e+08\n",
      "[614]\tvalid_0's rmse: 26734\tvalid_0's l2: 7.14706e+08\n",
      "[615]\tvalid_0's rmse: 26730.3\tvalid_0's l2: 7.14511e+08\n",
      "[616]\tvalid_0's rmse: 26728.8\tvalid_0's l2: 7.14427e+08\n",
      "[617]\tvalid_0's rmse: 26732.6\tvalid_0's l2: 7.1463e+08\n",
      "[618]\tvalid_0's rmse: 26729.2\tvalid_0's l2: 7.14449e+08\n",
      "[619]\tvalid_0's rmse: 26723.9\tvalid_0's l2: 7.14168e+08\n",
      "[620]\tvalid_0's rmse: 26720.1\tvalid_0's l2: 7.13966e+08\n",
      "[621]\tvalid_0's rmse: 26717.4\tvalid_0's l2: 7.13818e+08\n",
      "[622]\tvalid_0's rmse: 26716.3\tvalid_0's l2: 7.1376e+08\n",
      "[623]\tvalid_0's rmse: 26719.9\tvalid_0's l2: 7.13952e+08\n",
      "[624]\tvalid_0's rmse: 26714.2\tvalid_0's l2: 7.13647e+08\n",
      "[625]\tvalid_0's rmse: 26707.7\tvalid_0's l2: 7.13299e+08\n",
      "[626]\tvalid_0's rmse: 26708.3\tvalid_0's l2: 7.13335e+08\n",
      "[627]\tvalid_0's rmse: 26699.7\tvalid_0's l2: 7.12875e+08\n",
      "[628]\tvalid_0's rmse: 26698.7\tvalid_0's l2: 7.12819e+08\n",
      "[629]\tvalid_0's rmse: 26695.7\tvalid_0's l2: 7.12659e+08\n",
      "[630]\tvalid_0's rmse: 26693.7\tvalid_0's l2: 7.12553e+08\n",
      "[631]\tvalid_0's rmse: 26697.8\tvalid_0's l2: 7.12773e+08\n",
      "[632]\tvalid_0's rmse: 26692.3\tvalid_0's l2: 7.1248e+08\n",
      "[633]\tvalid_0's rmse: 26691.4\tvalid_0's l2: 7.12432e+08\n",
      "[634]\tvalid_0's rmse: 26688.6\tvalid_0's l2: 7.12283e+08\n",
      "[635]\tvalid_0's rmse: 26688.2\tvalid_0's l2: 7.12257e+08\n",
      "[636]\tvalid_0's rmse: 26679.4\tvalid_0's l2: 7.11792e+08\n",
      "[637]\tvalid_0's rmse: 26680.1\tvalid_0's l2: 7.11825e+08\n",
      "[638]\tvalid_0's rmse: 26674.8\tvalid_0's l2: 7.11543e+08\n",
      "[639]\tvalid_0's rmse: 26668\tvalid_0's l2: 7.11184e+08\n",
      "[640]\tvalid_0's rmse: 26668.6\tvalid_0's l2: 7.11212e+08\n",
      "[641]\tvalid_0's rmse: 26672.7\tvalid_0's l2: 7.11431e+08\n",
      "[642]\tvalid_0's rmse: 26669.8\tvalid_0's l2: 7.11277e+08\n",
      "[643]\tvalid_0's rmse: 26667.8\tvalid_0's l2: 7.1117e+08\n",
      "[644]\tvalid_0's rmse: 26664.9\tvalid_0's l2: 7.11017e+08\n",
      "[645]\tvalid_0's rmse: 26660\tvalid_0's l2: 7.10757e+08\n",
      "[646]\tvalid_0's rmse: 26660.5\tvalid_0's l2: 7.10783e+08\n",
      "[647]\tvalid_0's rmse: 26663.3\tvalid_0's l2: 7.10933e+08\n",
      "[648]\tvalid_0's rmse: 26663.6\tvalid_0's l2: 7.10948e+08\n",
      "[649]\tvalid_0's rmse: 26660.9\tvalid_0's l2: 7.10804e+08\n",
      "[650]\tvalid_0's rmse: 26655.4\tvalid_0's l2: 7.10509e+08\n",
      "[651]\tvalid_0's rmse: 26651.4\tvalid_0's l2: 7.10296e+08\n",
      "[652]\tvalid_0's rmse: 26646.7\tvalid_0's l2: 7.10045e+08\n",
      "[653]\tvalid_0's rmse: 26645.3\tvalid_0's l2: 7.09974e+08\n",
      "[654]\tvalid_0's rmse: 26645.6\tvalid_0's l2: 7.09987e+08\n",
      "[655]\tvalid_0's rmse: 26643.4\tvalid_0's l2: 7.09872e+08\n",
      "[656]\tvalid_0's rmse: 26639.5\tvalid_0's l2: 7.09664e+08\n",
      "[657]\tvalid_0's rmse: 26635.1\tvalid_0's l2: 7.0943e+08\n",
      "[658]\tvalid_0's rmse: 26630.6\tvalid_0's l2: 7.09186e+08\n",
      "[659]\tvalid_0's rmse: 26630.5\tvalid_0's l2: 7.09181e+08\n",
      "[660]\tvalid_0's rmse: 26628\tvalid_0's l2: 7.0905e+08\n",
      "[661]\tvalid_0's rmse: 26626.9\tvalid_0's l2: 7.08992e+08\n",
      "[662]\tvalid_0's rmse: 26629.6\tvalid_0's l2: 7.09136e+08\n",
      "[663]\tvalid_0's rmse: 26627.3\tvalid_0's l2: 7.09015e+08\n",
      "[664]\tvalid_0's rmse: 26624\tvalid_0's l2: 7.08836e+08\n",
      "[665]\tvalid_0's rmse: 26624.2\tvalid_0's l2: 7.08849e+08\n",
      "[666]\tvalid_0's rmse: 26622.6\tvalid_0's l2: 7.08762e+08\n",
      "[667]\tvalid_0's rmse: 26619.1\tvalid_0's l2: 7.08576e+08\n",
      "[668]\tvalid_0's rmse: 26612.3\tvalid_0's l2: 7.08213e+08\n",
      "[669]\tvalid_0's rmse: 26610.9\tvalid_0's l2: 7.08138e+08\n",
      "[670]\tvalid_0's rmse: 26608.7\tvalid_0's l2: 7.08021e+08\n",
      "[671]\tvalid_0's rmse: 26609.3\tvalid_0's l2: 7.08054e+08\n",
      "[672]\tvalid_0's rmse: 26606.6\tvalid_0's l2: 7.0791e+08\n",
      "[673]\tvalid_0's rmse: 26603.9\tvalid_0's l2: 7.07765e+08\n",
      "[674]\tvalid_0's rmse: 26598.9\tvalid_0's l2: 7.07504e+08\n",
      "[675]\tvalid_0's rmse: 26600.2\tvalid_0's l2: 7.07569e+08\n",
      "[676]\tvalid_0's rmse: 26595.6\tvalid_0's l2: 7.07326e+08\n",
      "[677]\tvalid_0's rmse: 26594.9\tvalid_0's l2: 7.07289e+08\n",
      "[678]\tvalid_0's rmse: 26590.4\tvalid_0's l2: 7.07052e+08\n",
      "[679]\tvalid_0's rmse: 26589.2\tvalid_0's l2: 7.06988e+08\n",
      "[680]\tvalid_0's rmse: 26588.4\tvalid_0's l2: 7.06943e+08\n",
      "[681]\tvalid_0's rmse: 26585.6\tvalid_0's l2: 7.06796e+08\n",
      "[682]\tvalid_0's rmse: 26585.8\tvalid_0's l2: 7.06806e+08\n",
      "[683]\tvalid_0's rmse: 26583.5\tvalid_0's l2: 7.06681e+08\n",
      "[684]\tvalid_0's rmse: 26578.7\tvalid_0's l2: 7.06429e+08\n",
      "[685]\tvalid_0's rmse: 26577.9\tvalid_0's l2: 7.06386e+08\n",
      "[686]\tvalid_0's rmse: 26581.5\tvalid_0's l2: 7.06576e+08\n",
      "[687]\tvalid_0's rmse: 26582\tvalid_0's l2: 7.06605e+08\n",
      "[688]\tvalid_0's rmse: 26578.7\tvalid_0's l2: 7.06426e+08\n",
      "[689]\tvalid_0's rmse: 26582.5\tvalid_0's l2: 7.06628e+08\n",
      "[690]\tvalid_0's rmse: 26582.2\tvalid_0's l2: 7.06614e+08\n",
      "[691]\tvalid_0's rmse: 26582.2\tvalid_0's l2: 7.06611e+08\n",
      "[692]\tvalid_0's rmse: 26581.9\tvalid_0's l2: 7.066e+08\n",
      "[693]\tvalid_0's rmse: 26580\tvalid_0's l2: 7.06495e+08\n",
      "[694]\tvalid_0's rmse: 26583.5\tvalid_0's l2: 7.06683e+08\n",
      "[695]\tvalid_0's rmse: 26582.4\tvalid_0's l2: 7.06622e+08\n",
      "[696]\tvalid_0's rmse: 26579.2\tvalid_0's l2: 7.06455e+08\n",
      "[697]\tvalid_0's rmse: 26580.9\tvalid_0's l2: 7.06542e+08\n",
      "[698]\tvalid_0's rmse: 26578.2\tvalid_0's l2: 7.06401e+08\n",
      "[699]\tvalid_0's rmse: 26575.7\tvalid_0's l2: 7.06269e+08\n",
      "[700]\tvalid_0's rmse: 26574.9\tvalid_0's l2: 7.06226e+08\n",
      "[701]\tvalid_0's rmse: 26575.4\tvalid_0's l2: 7.06252e+08\n",
      "[702]\tvalid_0's rmse: 26567.2\tvalid_0's l2: 7.05816e+08\n",
      "[703]\tvalid_0's rmse: 26562.3\tvalid_0's l2: 7.05555e+08\n",
      "[704]\tvalid_0's rmse: 26559.1\tvalid_0's l2: 7.05387e+08\n",
      "[705]\tvalid_0's rmse: 26558.4\tvalid_0's l2: 7.0535e+08\n",
      "[706]\tvalid_0's rmse: 26555.3\tvalid_0's l2: 7.05184e+08\n",
      "[707]\tvalid_0's rmse: 26555.3\tvalid_0's l2: 7.05185e+08\n",
      "[708]\tvalid_0's rmse: 26552.6\tvalid_0's l2: 7.05041e+08\n",
      "[709]\tvalid_0's rmse: 26547\tvalid_0's l2: 7.04742e+08\n",
      "[710]\tvalid_0's rmse: 26549.1\tvalid_0's l2: 7.04856e+08\n",
      "[711]\tvalid_0's rmse: 26544\tvalid_0's l2: 7.04586e+08\n",
      "[712]\tvalid_0's rmse: 26539.9\tvalid_0's l2: 7.04368e+08\n",
      "[713]\tvalid_0's rmse: 26540.7\tvalid_0's l2: 7.04411e+08\n",
      "[714]\tvalid_0's rmse: 26540\tvalid_0's l2: 7.04372e+08\n",
      "[715]\tvalid_0's rmse: 26533.6\tvalid_0's l2: 7.04033e+08\n",
      "[716]\tvalid_0's rmse: 26534.6\tvalid_0's l2: 7.04086e+08\n",
      "[717]\tvalid_0's rmse: 26535.6\tvalid_0's l2: 7.04139e+08\n",
      "[718]\tvalid_0's rmse: 26531.3\tvalid_0's l2: 7.03911e+08\n",
      "[719]\tvalid_0's rmse: 26528.7\tvalid_0's l2: 7.03772e+08\n",
      "[720]\tvalid_0's rmse: 26524.5\tvalid_0's l2: 7.03547e+08\n",
      "[721]\tvalid_0's rmse: 26518.4\tvalid_0's l2: 7.03225e+08\n",
      "[722]\tvalid_0's rmse: 26522.2\tvalid_0's l2: 7.03425e+08\n",
      "[723]\tvalid_0's rmse: 26522.3\tvalid_0's l2: 7.03431e+08\n",
      "[724]\tvalid_0's rmse: 26521.8\tvalid_0's l2: 7.03406e+08\n",
      "[725]\tvalid_0's rmse: 26516.3\tvalid_0's l2: 7.03117e+08\n",
      "[726]\tvalid_0's rmse: 26507\tvalid_0's l2: 7.02619e+08\n",
      "[727]\tvalid_0's rmse: 26505.1\tvalid_0's l2: 7.02522e+08\n",
      "[728]\tvalid_0's rmse: 26505.1\tvalid_0's l2: 7.02522e+08\n",
      "[729]\tvalid_0's rmse: 26501.6\tvalid_0's l2: 7.02336e+08\n",
      "[730]\tvalid_0's rmse: 26497.1\tvalid_0's l2: 7.02097e+08\n",
      "[731]\tvalid_0's rmse: 26496.7\tvalid_0's l2: 7.02075e+08\n",
      "[732]\tvalid_0's rmse: 26501\tvalid_0's l2: 7.02305e+08\n",
      "[733]\tvalid_0's rmse: 26499.4\tvalid_0's l2: 7.02218e+08\n",
      "[734]\tvalid_0's rmse: 26499.1\tvalid_0's l2: 7.02201e+08\n",
      "[735]\tvalid_0's rmse: 26494.3\tvalid_0's l2: 7.0195e+08\n",
      "[736]\tvalid_0's rmse: 26490.7\tvalid_0's l2: 7.01758e+08\n",
      "[737]\tvalid_0's rmse: 26488.7\tvalid_0's l2: 7.01651e+08\n",
      "[738]\tvalid_0's rmse: 26493\tvalid_0's l2: 7.0188e+08\n",
      "[739]\tvalid_0's rmse: 26493.7\tvalid_0's l2: 7.01914e+08\n",
      "[740]\tvalid_0's rmse: 26488.7\tvalid_0's l2: 7.01652e+08\n",
      "[741]\tvalid_0's rmse: 26488.1\tvalid_0's l2: 7.01621e+08\n",
      "[742]\tvalid_0's rmse: 26483.9\tvalid_0's l2: 7.01397e+08\n",
      "[743]\tvalid_0's rmse: 26487.5\tvalid_0's l2: 7.01587e+08\n",
      "[744]\tvalid_0's rmse: 26485.8\tvalid_0's l2: 7.01496e+08\n",
      "[745]\tvalid_0's rmse: 26484.7\tvalid_0's l2: 7.01441e+08\n",
      "[746]\tvalid_0's rmse: 26483\tvalid_0's l2: 7.01347e+08\n",
      "[747]\tvalid_0's rmse: 26480.4\tvalid_0's l2: 7.0121e+08\n",
      "[748]\tvalid_0's rmse: 26474.8\tvalid_0's l2: 7.00916e+08\n",
      "[749]\tvalid_0's rmse: 26471.7\tvalid_0's l2: 7.00751e+08\n",
      "[750]\tvalid_0's rmse: 26474.5\tvalid_0's l2: 7.00901e+08\n",
      "[751]\tvalid_0's rmse: 26474.1\tvalid_0's l2: 7.00877e+08\n",
      "[752]\tvalid_0's rmse: 26472.6\tvalid_0's l2: 7.00798e+08\n",
      "[753]\tvalid_0's rmse: 26466.9\tvalid_0's l2: 7.00497e+08\n",
      "[754]\tvalid_0's rmse: 26459.6\tvalid_0's l2: 7.00109e+08\n",
      "[755]\tvalid_0's rmse: 26458.2\tvalid_0's l2: 7.00036e+08\n",
      "[756]\tvalid_0's rmse: 26459.1\tvalid_0's l2: 7.00085e+08\n",
      "[757]\tvalid_0's rmse: 26459\tvalid_0's l2: 7.00078e+08\n",
      "[758]\tvalid_0's rmse: 26457.6\tvalid_0's l2: 7.00006e+08\n",
      "[759]\tvalid_0's rmse: 26460.3\tvalid_0's l2: 7.00146e+08\n",
      "[760]\tvalid_0's rmse: 26460.5\tvalid_0's l2: 7.0016e+08\n",
      "[761]\tvalid_0's rmse: 26459.1\tvalid_0's l2: 7.00086e+08\n",
      "[762]\tvalid_0's rmse: 26460.4\tvalid_0's l2: 7.00151e+08\n",
      "[763]\tvalid_0's rmse: 26454.9\tvalid_0's l2: 6.99864e+08\n",
      "[764]\tvalid_0's rmse: 26458.6\tvalid_0's l2: 7.00059e+08\n",
      "[765]\tvalid_0's rmse: 26450.1\tvalid_0's l2: 6.9961e+08\n",
      "[766]\tvalid_0's rmse: 26449.2\tvalid_0's l2: 6.99562e+08\n",
      "[767]\tvalid_0's rmse: 26446.3\tvalid_0's l2: 6.99404e+08\n",
      "[768]\tvalid_0's rmse: 26449.4\tvalid_0's l2: 6.99569e+08\n",
      "[769]\tvalid_0's rmse: 26452\tvalid_0's l2: 6.99711e+08\n",
      "[770]\tvalid_0's rmse: 26445.6\tvalid_0's l2: 6.99368e+08\n",
      "[771]\tvalid_0's rmse: 26444.3\tvalid_0's l2: 6.99299e+08\n",
      "[772]\tvalid_0's rmse: 26438\tvalid_0's l2: 6.9897e+08\n",
      "[773]\tvalid_0's rmse: 26439.5\tvalid_0's l2: 6.99048e+08\n",
      "[774]\tvalid_0's rmse: 26439.1\tvalid_0's l2: 6.99026e+08\n",
      "[775]\tvalid_0's rmse: 26433.3\tvalid_0's l2: 6.98719e+08\n",
      "[776]\tvalid_0's rmse: 26432.8\tvalid_0's l2: 6.98694e+08\n",
      "[777]\tvalid_0's rmse: 26434\tvalid_0's l2: 6.98754e+08\n",
      "[778]\tvalid_0's rmse: 26431.1\tvalid_0's l2: 6.98604e+08\n",
      "[779]\tvalid_0's rmse: 26426.6\tvalid_0's l2: 6.98364e+08\n",
      "[780]\tvalid_0's rmse: 26429.4\tvalid_0's l2: 6.98515e+08\n",
      "[781]\tvalid_0's rmse: 26426.1\tvalid_0's l2: 6.98338e+08\n",
      "[782]\tvalid_0's rmse: 26426.7\tvalid_0's l2: 6.9837e+08\n",
      "[783]\tvalid_0's rmse: 26425.9\tvalid_0's l2: 6.98329e+08\n",
      "[784]\tvalid_0's rmse: 26426.8\tvalid_0's l2: 6.98375e+08\n",
      "[785]\tvalid_0's rmse: 26428.9\tvalid_0's l2: 6.98488e+08\n",
      "[786]\tvalid_0's rmse: 26430.8\tvalid_0's l2: 6.98587e+08\n",
      "[787]\tvalid_0's rmse: 26425.5\tvalid_0's l2: 6.98306e+08\n",
      "[788]\tvalid_0's rmse: 26420.8\tvalid_0's l2: 6.98059e+08\n",
      "[789]\tvalid_0's rmse: 26415.4\tvalid_0's l2: 6.97772e+08\n",
      "[790]\tvalid_0's rmse: 26414.7\tvalid_0's l2: 6.97738e+08\n",
      "[791]\tvalid_0's rmse: 26410.6\tvalid_0's l2: 6.97521e+08\n",
      "[792]\tvalid_0's rmse: 26410.3\tvalid_0's l2: 6.97501e+08\n",
      "[793]\tvalid_0's rmse: 26411.9\tvalid_0's l2: 6.97586e+08\n",
      "[794]\tvalid_0's rmse: 26408\tvalid_0's l2: 6.97381e+08\n",
      "[795]\tvalid_0's rmse: 26410.7\tvalid_0's l2: 6.97526e+08\n",
      "[796]\tvalid_0's rmse: 26406.6\tvalid_0's l2: 6.97307e+08\n",
      "[797]\tvalid_0's rmse: 26409.8\tvalid_0's l2: 6.97479e+08\n",
      "[798]\tvalid_0's rmse: 26407.6\tvalid_0's l2: 6.97363e+08\n",
      "[799]\tvalid_0's rmse: 26408.6\tvalid_0's l2: 6.97413e+08\n",
      "[800]\tvalid_0's rmse: 26408.7\tvalid_0's l2: 6.97418e+08\n",
      "[801]\tvalid_0's rmse: 26409.6\tvalid_0's l2: 6.97466e+08\n",
      "[802]\tvalid_0's rmse: 26406.2\tvalid_0's l2: 6.97289e+08\n",
      "[803]\tvalid_0's rmse: 26407.8\tvalid_0's l2: 6.97373e+08\n",
      "[804]\tvalid_0's rmse: 26408.7\tvalid_0's l2: 6.97418e+08\n",
      "[805]\tvalid_0's rmse: 26403.4\tvalid_0's l2: 6.97137e+08\n",
      "[806]\tvalid_0's rmse: 26398.7\tvalid_0's l2: 6.96893e+08\n",
      "[807]\tvalid_0's rmse: 26400.7\tvalid_0's l2: 6.96997e+08\n",
      "[808]\tvalid_0's rmse: 26396\tvalid_0's l2: 6.9675e+08\n",
      "[809]\tvalid_0's rmse: 26397.9\tvalid_0's l2: 6.96848e+08\n",
      "[810]\tvalid_0's rmse: 26398\tvalid_0's l2: 6.96854e+08\n",
      "[811]\tvalid_0's rmse: 26394.6\tvalid_0's l2: 6.96673e+08\n",
      "[812]\tvalid_0's rmse: 26392.9\tvalid_0's l2: 6.96584e+08\n",
      "[813]\tvalid_0's rmse: 26390.2\tvalid_0's l2: 6.96444e+08\n",
      "[814]\tvalid_0's rmse: 26393.7\tvalid_0's l2: 6.96629e+08\n",
      "[815]\tvalid_0's rmse: 26393.2\tvalid_0's l2: 6.96603e+08\n",
      "[816]\tvalid_0's rmse: 26393.4\tvalid_0's l2: 6.96611e+08\n",
      "[817]\tvalid_0's rmse: 26395.6\tvalid_0's l2: 6.96726e+08\n",
      "[818]\tvalid_0's rmse: 26391\tvalid_0's l2: 6.96486e+08\n",
      "[819]\tvalid_0's rmse: 26387.3\tvalid_0's l2: 6.9629e+08\n",
      "[820]\tvalid_0's rmse: 26389.2\tvalid_0's l2: 6.96389e+08\n",
      "[821]\tvalid_0's rmse: 26389\tvalid_0's l2: 6.96377e+08\n",
      "[822]\tvalid_0's rmse: 26387.3\tvalid_0's l2: 6.96288e+08\n",
      "[823]\tvalid_0's rmse: 26387\tvalid_0's l2: 6.96276e+08\n",
      "[824]\tvalid_0's rmse: 26381.8\tvalid_0's l2: 6.95998e+08\n",
      "[825]\tvalid_0's rmse: 26377.8\tvalid_0's l2: 6.95786e+08\n",
      "[826]\tvalid_0's rmse: 26372.2\tvalid_0's l2: 6.95495e+08\n",
      "[827]\tvalid_0's rmse: 26369.8\tvalid_0's l2: 6.95368e+08\n",
      "[828]\tvalid_0's rmse: 26369.7\tvalid_0's l2: 6.95359e+08\n",
      "[829]\tvalid_0's rmse: 26374.4\tvalid_0's l2: 6.95607e+08\n",
      "[830]\tvalid_0's rmse: 26374.3\tvalid_0's l2: 6.95604e+08\n",
      "[831]\tvalid_0's rmse: 26371\tvalid_0's l2: 6.9543e+08\n",
      "[832]\tvalid_0's rmse: 26367.6\tvalid_0's l2: 6.9525e+08\n",
      "[833]\tvalid_0's rmse: 26363.5\tvalid_0's l2: 6.95034e+08\n",
      "[834]\tvalid_0's rmse: 26362.7\tvalid_0's l2: 6.94989e+08\n",
      "[835]\tvalid_0's rmse: 26362.7\tvalid_0's l2: 6.94994e+08\n",
      "[836]\tvalid_0's rmse: 26361.1\tvalid_0's l2: 6.94909e+08\n",
      "[837]\tvalid_0's rmse: 26364.9\tvalid_0's l2: 6.95107e+08\n",
      "[838]\tvalid_0's rmse: 26360.2\tvalid_0's l2: 6.94862e+08\n",
      "[839]\tvalid_0's rmse: 26356.9\tvalid_0's l2: 6.94685e+08\n",
      "[840]\tvalid_0's rmse: 26352.4\tvalid_0's l2: 6.9445e+08\n",
      "[841]\tvalid_0's rmse: 26353.7\tvalid_0's l2: 6.94517e+08\n",
      "[842]\tvalid_0's rmse: 26353.9\tvalid_0's l2: 6.94529e+08\n",
      "[843]\tvalid_0's rmse: 26356.8\tvalid_0's l2: 6.94683e+08\n",
      "[844]\tvalid_0's rmse: 26360.1\tvalid_0's l2: 6.94857e+08\n",
      "[845]\tvalid_0's rmse: 26354.9\tvalid_0's l2: 6.94583e+08\n",
      "[846]\tvalid_0's rmse: 26352.5\tvalid_0's l2: 6.94455e+08\n",
      "[847]\tvalid_0's rmse: 26349.8\tvalid_0's l2: 6.94311e+08\n",
      "[848]\tvalid_0's rmse: 26354.4\tvalid_0's l2: 6.94556e+08\n",
      "[849]\tvalid_0's rmse: 26354.4\tvalid_0's l2: 6.94557e+08\n",
      "[850]\tvalid_0's rmse: 26358.3\tvalid_0's l2: 6.94758e+08\n",
      "[851]\tvalid_0's rmse: 26356.6\tvalid_0's l2: 6.94671e+08\n",
      "[852]\tvalid_0's rmse: 26358\tvalid_0's l2: 6.94745e+08\n",
      "[853]\tvalid_0's rmse: 26355.2\tvalid_0's l2: 6.94598e+08\n",
      "[854]\tvalid_0's rmse: 26351.4\tvalid_0's l2: 6.94396e+08\n",
      "[855]\tvalid_0's rmse: 26352.1\tvalid_0's l2: 6.94433e+08\n",
      "[856]\tvalid_0's rmse: 26350.7\tvalid_0's l2: 6.94357e+08\n",
      "[857]\tvalid_0's rmse: 26350.6\tvalid_0's l2: 6.94354e+08\n",
      "[858]\tvalid_0's rmse: 26351\tvalid_0's l2: 6.94375e+08\n",
      "[859]\tvalid_0's rmse: 26351.5\tvalid_0's l2: 6.944e+08\n",
      "[860]\tvalid_0's rmse: 26348.9\tvalid_0's l2: 6.94265e+08\n",
      "[861]\tvalid_0's rmse: 26344\tvalid_0's l2: 6.94008e+08\n",
      "[862]\tvalid_0's rmse: 26342.4\tvalid_0's l2: 6.93921e+08\n",
      "[863]\tvalid_0's rmse: 26341.3\tvalid_0's l2: 6.93864e+08\n",
      "[864]\tvalid_0's rmse: 26337.3\tvalid_0's l2: 6.93655e+08\n",
      "[865]\tvalid_0's rmse: 26332.8\tvalid_0's l2: 6.93419e+08\n",
      "[866]\tvalid_0's rmse: 26332\tvalid_0's l2: 6.93377e+08\n",
      "[867]\tvalid_0's rmse: 26334.5\tvalid_0's l2: 6.93507e+08\n",
      "[868]\tvalid_0's rmse: 26333.4\tvalid_0's l2: 6.93446e+08\n",
      "[869]\tvalid_0's rmse: 26327.8\tvalid_0's l2: 6.93155e+08\n",
      "[870]\tvalid_0's rmse: 26332.5\tvalid_0's l2: 6.93403e+08\n",
      "[871]\tvalid_0's rmse: 26332.4\tvalid_0's l2: 6.93393e+08\n",
      "[872]\tvalid_0's rmse: 26333.1\tvalid_0's l2: 6.93432e+08\n",
      "[873]\tvalid_0's rmse: 26328.9\tvalid_0's l2: 6.93212e+08\n",
      "[874]\tvalid_0's rmse: 26325.4\tvalid_0's l2: 6.93025e+08\n",
      "[875]\tvalid_0's rmse: 26324.1\tvalid_0's l2: 6.92957e+08\n",
      "[876]\tvalid_0's rmse: 26321\tvalid_0's l2: 6.92796e+08\n",
      "[877]\tvalid_0's rmse: 26319.9\tvalid_0's l2: 6.92739e+08\n",
      "[878]\tvalid_0's rmse: 26322.4\tvalid_0's l2: 6.92868e+08\n",
      "[879]\tvalid_0's rmse: 26322.2\tvalid_0's l2: 6.92858e+08\n",
      "[880]\tvalid_0's rmse: 26321\tvalid_0's l2: 6.92797e+08\n",
      "[881]\tvalid_0's rmse: 26316.5\tvalid_0's l2: 6.9256e+08\n",
      "[882]\tvalid_0's rmse: 26315.1\tvalid_0's l2: 6.92483e+08\n",
      "[883]\tvalid_0's rmse: 26314.6\tvalid_0's l2: 6.92456e+08\n",
      "[884]\tvalid_0's rmse: 26315.8\tvalid_0's l2: 6.92522e+08\n",
      "[885]\tvalid_0's rmse: 26314.2\tvalid_0's l2: 6.92439e+08\n",
      "[886]\tvalid_0's rmse: 26313.1\tvalid_0's l2: 6.92381e+08\n",
      "[887]\tvalid_0's rmse: 26314.3\tvalid_0's l2: 6.92444e+08\n",
      "[888]\tvalid_0's rmse: 26316.9\tvalid_0's l2: 6.9258e+08\n",
      "[889]\tvalid_0's rmse: 26313.8\tvalid_0's l2: 6.92415e+08\n",
      "[890]\tvalid_0's rmse: 26316.7\tvalid_0's l2: 6.92571e+08\n",
      "[891]\tvalid_0's rmse: 26310.9\tvalid_0's l2: 6.92262e+08\n",
      "[892]\tvalid_0's rmse: 26309.3\tvalid_0's l2: 6.92179e+08\n",
      "[893]\tvalid_0's rmse: 26308.4\tvalid_0's l2: 6.92133e+08\n",
      "[894]\tvalid_0's rmse: 26309.3\tvalid_0's l2: 6.92182e+08\n",
      "[895]\tvalid_0's rmse: 26307\tvalid_0's l2: 6.92057e+08\n",
      "[896]\tvalid_0's rmse: 26303.9\tvalid_0's l2: 6.91895e+08\n",
      "[897]\tvalid_0's rmse: 26303.3\tvalid_0's l2: 6.91866e+08\n",
      "[898]\tvalid_0's rmse: 26297.2\tvalid_0's l2: 6.91543e+08\n",
      "[899]\tvalid_0's rmse: 26296.7\tvalid_0's l2: 6.91515e+08\n",
      "[900]\tvalid_0's rmse: 26291.9\tvalid_0's l2: 6.91262e+08\n",
      "[901]\tvalid_0's rmse: 26295.3\tvalid_0's l2: 6.91444e+08\n",
      "[902]\tvalid_0's rmse: 26294.1\tvalid_0's l2: 6.91382e+08\n",
      "[903]\tvalid_0's rmse: 26289.3\tvalid_0's l2: 6.91125e+08\n",
      "[904]\tvalid_0's rmse: 26284.8\tvalid_0's l2: 6.90888e+08\n",
      "[905]\tvalid_0's rmse: 26283.4\tvalid_0's l2: 6.90818e+08\n",
      "[906]\tvalid_0's rmse: 26282.5\tvalid_0's l2: 6.9077e+08\n",
      "[907]\tvalid_0's rmse: 26281\tvalid_0's l2: 6.90688e+08\n",
      "[908]\tvalid_0's rmse: 26276.1\tvalid_0's l2: 6.90433e+08\n",
      "[909]\tvalid_0's rmse: 26278.8\tvalid_0's l2: 6.90577e+08\n",
      "[910]\tvalid_0's rmse: 26277.5\tvalid_0's l2: 6.90508e+08\n",
      "[911]\tvalid_0's rmse: 26275.5\tvalid_0's l2: 6.90401e+08\n",
      "[912]\tvalid_0's rmse: 26275.5\tvalid_0's l2: 6.90404e+08\n",
      "[913]\tvalid_0's rmse: 26274.4\tvalid_0's l2: 6.90342e+08\n",
      "[914]\tvalid_0's rmse: 26278.7\tvalid_0's l2: 6.90568e+08\n",
      "[915]\tvalid_0's rmse: 26279\tvalid_0's l2: 6.90583e+08\n",
      "[916]\tvalid_0's rmse: 26277.5\tvalid_0's l2: 6.90509e+08\n",
      "[917]\tvalid_0's rmse: 26272.5\tvalid_0's l2: 6.90242e+08\n",
      "[918]\tvalid_0's rmse: 26266.8\tvalid_0's l2: 6.89946e+08\n",
      "[919]\tvalid_0's rmse: 26269.7\tvalid_0's l2: 6.90097e+08\n",
      "[920]\tvalid_0's rmse: 26267.7\tvalid_0's l2: 6.8999e+08\n",
      "[921]\tvalid_0's rmse: 26264.7\tvalid_0's l2: 6.89833e+08\n",
      "[922]\tvalid_0's rmse: 26263.9\tvalid_0's l2: 6.89793e+08\n",
      "[923]\tvalid_0's rmse: 26262.8\tvalid_0's l2: 6.89732e+08\n",
      "[924]\tvalid_0's rmse: 26262.7\tvalid_0's l2: 6.8973e+08\n",
      "[925]\tvalid_0's rmse: 26263\tvalid_0's l2: 6.89744e+08\n",
      "[926]\tvalid_0's rmse: 26261.7\tvalid_0's l2: 6.89679e+08\n",
      "[927]\tvalid_0's rmse: 26257.9\tvalid_0's l2: 6.89476e+08\n",
      "[928]\tvalid_0's rmse: 26255.1\tvalid_0's l2: 6.89333e+08\n",
      "[929]\tvalid_0's rmse: 26257.9\tvalid_0's l2: 6.89478e+08\n",
      "[930]\tvalid_0's rmse: 26254.6\tvalid_0's l2: 6.89306e+08\n",
      "[931]\tvalid_0's rmse: 26255.4\tvalid_0's l2: 6.89345e+08\n",
      "[932]\tvalid_0's rmse: 26252.6\tvalid_0's l2: 6.89198e+08\n",
      "[933]\tvalid_0's rmse: 26251.6\tvalid_0's l2: 6.89149e+08\n",
      "[934]\tvalid_0's rmse: 26250\tvalid_0's l2: 6.89062e+08\n",
      "[935]\tvalid_0's rmse: 26249.8\tvalid_0's l2: 6.89053e+08\n",
      "[936]\tvalid_0's rmse: 26244.3\tvalid_0's l2: 6.88766e+08\n",
      "[937]\tvalid_0's rmse: 26248.2\tvalid_0's l2: 6.88967e+08\n",
      "[938]\tvalid_0's rmse: 26249.8\tvalid_0's l2: 6.89051e+08\n",
      "[939]\tvalid_0's rmse: 26253\tvalid_0's l2: 6.89219e+08\n",
      "[940]\tvalid_0's rmse: 26251\tvalid_0's l2: 6.89115e+08\n",
      "[941]\tvalid_0's rmse: 26245.1\tvalid_0's l2: 6.88806e+08\n",
      "[942]\tvalid_0's rmse: 26243.2\tvalid_0's l2: 6.88704e+08\n",
      "[943]\tvalid_0's rmse: 26239.2\tvalid_0's l2: 6.88496e+08\n",
      "[944]\tvalid_0's rmse: 26240.5\tvalid_0's l2: 6.88562e+08\n",
      "[945]\tvalid_0's rmse: 26237.5\tvalid_0's l2: 6.88409e+08\n",
      "[946]\tvalid_0's rmse: 26239.7\tvalid_0's l2: 6.88521e+08\n",
      "[947]\tvalid_0's rmse: 26238.9\tvalid_0's l2: 6.8848e+08\n",
      "[948]\tvalid_0's rmse: 26236.4\tvalid_0's l2: 6.8835e+08\n",
      "[949]\tvalid_0's rmse: 26236.5\tvalid_0's l2: 6.88354e+08\n",
      "[950]\tvalid_0's rmse: 26234.2\tvalid_0's l2: 6.88234e+08\n",
      "[951]\tvalid_0's rmse: 26232.8\tvalid_0's l2: 6.88158e+08\n",
      "[952]\tvalid_0's rmse: 26231.3\tvalid_0's l2: 6.88079e+08\n",
      "[953]\tvalid_0's rmse: 26232.8\tvalid_0's l2: 6.88162e+08\n",
      "[954]\tvalid_0's rmse: 26230.2\tvalid_0's l2: 6.88026e+08\n",
      "[955]\tvalid_0's rmse: 26225.6\tvalid_0's l2: 6.87783e+08\n",
      "[956]\tvalid_0's rmse: 26224.7\tvalid_0's l2: 6.87737e+08\n",
      "[957]\tvalid_0's rmse: 26223.9\tvalid_0's l2: 6.87695e+08\n",
      "[958]\tvalid_0's rmse: 26222.6\tvalid_0's l2: 6.87623e+08\n",
      "[959]\tvalid_0's rmse: 26222.6\tvalid_0's l2: 6.87627e+08\n",
      "[960]\tvalid_0's rmse: 26223.7\tvalid_0's l2: 6.87683e+08\n",
      "[961]\tvalid_0's rmse: 26225\tvalid_0's l2: 6.87751e+08\n",
      "[962]\tvalid_0's rmse: 26224.2\tvalid_0's l2: 6.87707e+08\n",
      "[963]\tvalid_0's rmse: 26220.6\tvalid_0's l2: 6.87519e+08\n",
      "[964]\tvalid_0's rmse: 26223.6\tvalid_0's l2: 6.87677e+08\n",
      "[965]\tvalid_0's rmse: 26224.9\tvalid_0's l2: 6.87745e+08\n",
      "[966]\tvalid_0's rmse: 26227.7\tvalid_0's l2: 6.87891e+08\n",
      "[967]\tvalid_0's rmse: 26225.8\tvalid_0's l2: 6.87795e+08\n",
      "[968]\tvalid_0's rmse: 26228.9\tvalid_0's l2: 6.87953e+08\n",
      "[969]\tvalid_0's rmse: 26225.6\tvalid_0's l2: 6.87784e+08\n",
      "[970]\tvalid_0's rmse: 26224.9\tvalid_0's l2: 6.87746e+08\n",
      "[971]\tvalid_0's rmse: 26224.4\tvalid_0's l2: 6.8772e+08\n",
      "[972]\tvalid_0's rmse: 26224.2\tvalid_0's l2: 6.87711e+08\n",
      "[973]\tvalid_0's rmse: 26225.7\tvalid_0's l2: 6.87785e+08\n",
      "[974]\tvalid_0's rmse: 26225.1\tvalid_0's l2: 6.87755e+08\n",
      "[975]\tvalid_0's rmse: 26220.9\tvalid_0's l2: 6.87535e+08\n",
      "[976]\tvalid_0's rmse: 26222.9\tvalid_0's l2: 6.87639e+08\n",
      "[977]\tvalid_0's rmse: 26225.7\tvalid_0's l2: 6.87788e+08\n",
      "[978]\tvalid_0's rmse: 26223.5\tvalid_0's l2: 6.87672e+08\n",
      "[979]\tvalid_0's rmse: 26223.3\tvalid_0's l2: 6.87663e+08\n",
      "[980]\tvalid_0's rmse: 26226.6\tvalid_0's l2: 6.87834e+08\n",
      "[981]\tvalid_0's rmse: 26222.9\tvalid_0's l2: 6.8764e+08\n",
      "[982]\tvalid_0's rmse: 26221.9\tvalid_0's l2: 6.87587e+08\n",
      "[983]\tvalid_0's rmse: 26224.7\tvalid_0's l2: 6.87735e+08\n",
      "[984]\tvalid_0's rmse: 26222.2\tvalid_0's l2: 6.87606e+08\n",
      "[985]\tvalid_0's rmse: 26219\tvalid_0's l2: 6.87438e+08\n",
      "[986]\tvalid_0's rmse: 26218.9\tvalid_0's l2: 6.87429e+08\n",
      "[987]\tvalid_0's rmse: 26216.9\tvalid_0's l2: 6.87325e+08\n",
      "[988]\tvalid_0's rmse: 26219.5\tvalid_0's l2: 6.87461e+08\n",
      "[989]\tvalid_0's rmse: 26223.6\tvalid_0's l2: 6.87677e+08\n",
      "[990]\tvalid_0's rmse: 26220.6\tvalid_0's l2: 6.87518e+08\n",
      "[991]\tvalid_0's rmse: 26220.5\tvalid_0's l2: 6.87516e+08\n",
      "[992]\tvalid_0's rmse: 26224.5\tvalid_0's l2: 6.87725e+08\n",
      "[993]\tvalid_0's rmse: 26221.2\tvalid_0's l2: 6.8755e+08\n",
      "[994]\tvalid_0's rmse: 26219.2\tvalid_0's l2: 6.87447e+08\n",
      "[995]\tvalid_0's rmse: 26217.1\tvalid_0's l2: 6.87336e+08\n",
      "[996]\tvalid_0's rmse: 26216.2\tvalid_0's l2: 6.8729e+08\n",
      "[997]\tvalid_0's rmse: 26213.6\tvalid_0's l2: 6.87153e+08\n",
      "[998]\tvalid_0's rmse: 26210.6\tvalid_0's l2: 6.86997e+08\n",
      "[999]\tvalid_0's rmse: 26210.3\tvalid_0's l2: 6.8698e+08\n",
      "[1000]\tvalid_0's rmse: 26207.9\tvalid_0's l2: 6.86856e+08\n"
     ]
    },
    {
     "data": {
      "text/plain": [
       "LGBMRegressor(boosting_type='gbdt', class_weight=None, colsample_bytree=1,\n",
       "       importance_type='split', learning_rate=0.01, max_bin=255,\n",
       "       max_depth=-1, min_child_samples=10, min_child_weight=3,\n",
       "       min_split_gain=0, n_estimators=1000, n_jobs=-1, nthread=-1,\n",
       "       num_leaves=31, objective='regression', random_state=None,\n",
       "       reg_alpha=0.1, reg_lambda=0, seed=17, silent=False, subsample=1,\n",
       "       subsample_for_bin=50000, subsample_freq=1)"
      ]
     },
     "execution_count": 56,
     "metadata": {},
     "output_type": "execute_result"
    }
   ],
   "source": [
    "gbm.fit(X_train, y_train, \n",
    "            eval_metric='rmse',\n",
    "            eval_set=[(X_test, y_test)],\n",
    "            verbose = True)"
   ]
  },
  {
   "cell_type": "code",
   "execution_count": 57,
   "metadata": {},
   "outputs": [],
   "source": [
    "feature_imp = pd.DataFrame(sorted(zip(gbm.feature_importances_,X_train.columns)), columns=['Value','Feature'])\n",
    "# take only top 80 % features\n",
    "feature_imp['cum_pct'] = feature_imp['Value'].cumsum()/feature_imp['Value'].sum()"
   ]
  },
  {
   "cell_type": "code",
   "execution_count": 58,
   "metadata": {},
   "outputs": [],
   "source": [
    "top_feats = feature_imp.loc[feature_imp['cum_pct'] >= 0.2]['Feature'].values.tolist()"
   ]
  },
  {
   "cell_type": "code",
   "execution_count": 59,
   "metadata": {},
   "outputs": [
    {
     "data": {
      "image/png": "[encoded data removed]",
      "text/plain": [
       "<Figure size 1440x720 with 1 Axes>"
      ]
     },
     "metadata": {
      "needs_background": "light"
     },
     "output_type": "display_data"
    }
   ],
   "source": [
    "plt.figure(figsize=(20, 10))\n",
    "sns.barplot(x=\"Value\", y=\"Feature\", data=feature_imp.loc[feature_imp['cum_pct'] >= 0.2].sort_values(by=\"Value\", ascending=False))\n",
    "plt.title('LightGBM Features (avg over folds)')\n",
    "plt.tight_layout()\n",
    "plt.show()"
   ]
  },
  {
   "cell_type": "code",
   "execution_count": 60,
   "metadata": {},
   "outputs": [],
   "source": [
    "X_train, X_test, y_train, y_test = train_test_split(features[top_feats], label, test_size=0.2, random_state=42)"
   ]
  },
  {
   "cell_type": "markdown",
   "metadata": {},
   "source": [
    "## Linear Regression"
   ]
  },
  {
   "cell_type": "code",
   "execution_count": 61,
   "metadata": {},
   "outputs": [],
   "source": [
    "linreg = LinearRegression()"
   ]
  },
  {
   "cell_type": "code",
   "execution_count": 62,
   "metadata": {},
   "outputs": [
    {
     "data": {
      "text/plain": [
       "LinearRegression(copy_X=True, fit_intercept=True, n_jobs=None,\n",
       "         normalize=False)"
      ]
     },
     "execution_count": 62,
     "metadata": {},
     "output_type": "execute_result"
    }
   ],
   "source": [
    "linreg.fit(X_train, y_train)"
   ]
  },
  {
   "cell_type": "code",
   "execution_count": 63,
   "metadata": {},
   "outputs": [],
   "source": [
    "price_prediction = abs(linreg.predict(X_test))"
   ]
  },
  {
   "cell_type": "markdown",
   "metadata": {},
   "source": [
    "## Random Forest Regression"
   ]
  },
  {
   "cell_type": "code",
   "execution_count": 64,
   "metadata": {},
   "outputs": [],
   "source": [
    "forest_reg = RandomForestRegressor()"
   ]
  },
  {
   "cell_type": "code",
   "execution_count": 65,
   "metadata": {},
   "outputs": [
    {
     "data": {
      "text/plain": [
       "RandomForestRegressor(bootstrap=True, criterion='mse', max_depth=None,\n",
       "           max_features='auto', max_leaf_nodes=None,\n",
       "           min_impurity_decrease=0.0, min_impurity_split=None,\n",
       "           min_samples_leaf=1, min_samples_split=2,\n",
       "           min_weight_fraction_leaf=0.0, n_estimators=10, n_jobs=None,\n",
       "           oob_score=False, random_state=None, verbose=0, warm_start=False)"
      ]
     },
     "execution_count": 65,
     "metadata": {},
     "output_type": "execute_result"
    }
   ],
   "source": [
    "forest_reg.fit(X_train, y_train)"
   ]
  },
  {
   "cell_type": "code",
   "execution_count": 66,
   "metadata": {},
   "outputs": [],
   "source": [
    "f_price_prediction = forest_reg.predict(X_test)"
   ]
  },
  {
   "cell_type": "markdown",
   "metadata": {},
   "source": [
    "## XGBoost"
   ]
  },
  {
   "cell_type": "code",
   "execution_count": 67,
   "metadata": {},
   "outputs": [],
   "source": [
    "xgb = xgboost.XGBRegressor(colsample_bytree=0.4,\n",
    "                 gamma=0,                 \n",
    "                 learning_rate=0.01,\n",
    "                 max_depth=3,\n",
    "                 min_child_weight=1.5,\n",
    "                 n_estimators=10000,                                                                    \n",
    "                 reg_alpha=0.75,\n",
    "                 reg_lambda=0.45,\n",
    "                 subsample=0.6,\n",
    "                 seed=42) "
   ]
  },
  {
   "cell_type": "code",
   "execution_count": 68,
   "metadata": {},
   "outputs": [
    {
     "name": "stdout",
     "output_type": "stream",
     "text": [
      "[07:26:31] WARNING: src/objective/regression_obj.cu:152: reg:linear is now deprecated in favor of reg:squarederror.\n"
     ]
    },
    {
     "data": {
      "text/plain": [
       "XGBRegressor(base_score=0.5, booster='gbtree', colsample_bylevel=1,\n",
       "       colsample_bynode=1, colsample_bytree=0.4, gamma=0,\n",
       "       importance_type='gain', learning_rate=0.01, max_delta_step=0,\n",
       "       max_depth=3, min_child_weight=1.5, missing=None, n_estimators=10000,\n",
       "       n_jobs=1, nthread=None, objective='reg:linear', random_state=0,\n",
       "       reg_alpha=0.75, reg_lambda=0.45, scale_pos_weight=1, seed=42,\n",
       "       silent=None, subsample=0.6, verbosity=1)"
      ]
     },
     "execution_count": 68,
     "metadata": {},
     "output_type": "execute_result"
    }
   ],
   "source": [
    "xgb.fit(X_train, y_train)"
   ]
  },
  {
   "cell_type": "code",
   "execution_count": 69,
   "metadata": {},
   "outputs": [],
   "source": [
    "xgb_predict = xgb.predict(X_test)"
   ]
  },
  {
   "cell_type": "markdown",
   "metadata": {},
   "source": [
    "## Performance Benchmarking"
   ]
  },
  {
   "cell_type": "code",
   "execution_count": 70,
   "metadata": {},
   "outputs": [],
   "source": [
    "def cross_validate(model, features, label, n_cv):\n",
    "    scores = cross_val_score(model, features, label,\n",
    "                             scoring=\"neg_mean_squared_error\", cv=n_cv)\n",
    "    rmse_scores = np.sqrt(-scores)\n",
    "    \n",
    "    return rmse_scores"
   ]
  },
  {
   "cell_type": "code",
   "execution_count": 71,
   "metadata": {},
   "outputs": [],
   "source": [
    "models = {'linear' : linreg, 'random forest': forest_reg, 'xgboost': xgb}"
   ]
  },
  {
   "cell_type": "code",
   "execution_count": 72,
   "metadata": {},
   "outputs": [],
   "source": [
    "def model_benchmark(models, X_test, y_test, n_cv):\n",
    "    performance_benchmark = pd.DataFrame(columns=['model','rmsle'])\n",
    "    for model in models:\n",
    "        temp_model = [model]*n_cv\n",
    "        temp_performance = cross_validate(models[model], X_test, y_test, n_cv)\n",
    "        temp_df = pd.DataFrame({'model': temp_model, 'rmsle': temp_performance})\n",
    "        performance_benchmark = pd.merge(performance_benchmark, temp_df, how = 'outer')\n",
    "    sns.boxplot(x=\"model\", y=\"rmsle\", data=performance_benchmark)\n",
    "    plt.title('Performance Benchmark')"
   ]
  },
  {
   "cell_type": "code",
   "execution_count": 73,
   "metadata": {},
   "outputs": [
    {
     "name": "stdout",
     "output_type": "stream",
     "text": [
      "[07:26:43] WARNING: src/objective/regression_obj.cu:152: reg:linear is now deprecated in favor of reg:squarederror.\n",
      "[07:26:46] WARNING: src/objective/regression_obj.cu:152: reg:linear is now deprecated in favor of reg:squarederror.\n",
      "[07:26:49] WARNING: src/objective/regression_obj.cu:152: reg:linear is now deprecated in favor of reg:squarederror.\n",
      "[07:26:52] WARNING: src/objective/regression_obj.cu:152: reg:linear is now deprecated in favor of reg:squarederror.\n",
      "[07:26:55] WARNING: src/objective/regression_obj.cu:152: reg:linear is now deprecated in favor of reg:squarederror.\n",
      "[07:26:58] WARNING: src/objective/regression_obj.cu:152: reg:linear is now deprecated in favor of reg:squarederror.\n",
      "[07:27:01] WARNING: src/objective/regression_obj.cu:152: reg:linear is now deprecated in favor of reg:squarederror.\n",
      "[07:27:04] WARNING: src/objective/regression_obj.cu:152: reg:linear is now deprecated in favor of reg:squarederror.\n",
      "[07:27:08] WARNING: src/objective/regression_obj.cu:152: reg:linear is now deprecated in favor of reg:squarederror.\n",
      "[07:27:11] WARNING: src/objective/regression_obj.cu:152: reg:linear is now deprecated in favor of reg:squarederror.\n"
     ]
    },
    {
     "data": {
      "image/png": "[encoded data removed]",
      "text/plain": [
       "<Figure size 432x288 with 1 Axes>"
      ]
     },
     "metadata": {
      "needs_background": "light"
     },
     "output_type": "display_data"
    }
   ],
   "source": [
    "model_benchmark(models, X_test, y_test, 10)"
   ]
  },
  {
   "cell_type": "markdown",
   "metadata": {},
   "source": [
    "## Fine Tuning"
   ]
  },
  {
   "cell_type": "code",
   "execution_count": 74,
   "metadata": {},
   "outputs": [],
   "source": [
    "params = {\n",
    "        'min_child_weight': [1, 5, 10],\n",
    "        'gamma': [0, 0.5, 1, 1.5, 2],\n",
    "        'subsample': [0.6, 0.8, 1.0],\n",
    "        'colsample_bytree': [0.4, 0.6, 0.8, 1.0],\n",
    "        'max_depth': [3, 4, 5],\n",
    "        'reg_alpha': [0, 0.25, 0.5, 0.75],\n",
    "        'reg_lambda': [0.45, 0.75 , 1]\n",
    "        }"
   ]
  },
  {
   "cell_type": "code",
   "execution_count": 75,
   "metadata": {},
   "outputs": [],
   "source": [
    "folds = 3\n",
    "param_comb = 5\n",
    "\n",
    "skf = StratifiedKFold(n_splits=folds, shuffle = True, random_state = 1001)"
   ]
  },
  {
   "cell_type": "code",
   "execution_count": 76,
   "metadata": {},
   "outputs": [],
   "source": [
    "random_search = RandomizedSearchCV(xgb, \n",
    "                                   param_distributions=params, \n",
    "                                   n_iter=param_comb, \n",
    "                                   scoring='neg_mean_squared_error', \n",
    "                                   n_jobs=1, \n",
    "                                   cv=skf.split(features[top_feats], label), \n",
    "                                   verbose=3, \n",
    "                                   random_state=1001 )"
   ]
  },
  {
   "cell_type": "code",
   "execution_count": 77,
   "metadata": {},
   "outputs": [],
   "source": [
    "def timer(start_time=None):\n",
    "    if not start_time:\n",
    "        start_time = datetime.datetime.now()\n",
    "        return start_time\n",
    "    elif start_time:\n",
    "        thour, temp_sec = divmod((datetime.datetime.now() - start_time).total_seconds(), 3600)\n",
    "        tmin, tsec = divmod(temp_sec, 60)\n",
    "        print('\\n Time taken: %i hours %i minutes and %s seconds.' % (thour, tmin, round(tsec, 2)))"
   ]
  },
  {
   "cell_type": "code",
   "execution_count": 78,
   "metadata": {},
   "outputs": [
    {
     "name": "stdout",
     "output_type": "stream",
     "text": [
      "Fitting 3 folds for each of 5 candidates, totalling 15 fits\n",
      "[CV] subsample=0.8, reg_lambda=0.45, reg_alpha=0, min_child_weight=5, max_depth=3, gamma=2, colsample_bytree=0.6 \n",
      "[07:27:14] WARNING: src/objective/regression_obj.cu:152: reg:linear is now deprecated in favor of reg:squarederror.\n"
     ]
    },
    {
     "name": "stderr",
     "output_type": "stream",
     "text": [
      "[Parallel(n_jobs=1)]: Using backend SequentialBackend with 1 concurrent workers.\n"
     ]
    },
    {
     "name": "stdout",
     "output_type": "stream",
     "text": [
      "[CV]  subsample=0.8, reg_lambda=0.45, reg_alpha=0, min_child_weight=5, max_depth=3, gamma=2, colsample_bytree=0.6, score=-1940015862.5273104, total=   8.0s\n",
      "[CV] subsample=0.8, reg_lambda=0.45, reg_alpha=0, min_child_weight=5, max_depth=3, gamma=2, colsample_bytree=0.6 \n",
      "[07:27:22] WARNING: src/objective/regression_obj.cu:152: reg:linear is now deprecated in favor of reg:squarederror.\n"
     ]
    },
    {
     "name": "stderr",
     "output_type": "stream",
     "text": [
      "[Parallel(n_jobs=1)]: Done   1 out of   1 | elapsed:    8.2s remaining:    0.0s\n"
     ]
    },
    {
     "name": "stdout",
     "output_type": "stream",
     "text": [
      "[CV]  subsample=0.8, reg_lambda=0.45, reg_alpha=0, min_child_weight=5, max_depth=3, gamma=2, colsample_bytree=0.6, score=-382293955.44895065, total=  13.5s\n",
      "[CV] subsample=0.8, reg_lambda=0.45, reg_alpha=0, min_child_weight=5, max_depth=3, gamma=2, colsample_bytree=0.6 \n",
      "[07:27:36] WARNING: src/objective/regression_obj.cu:152: reg:linear is now deprecated in favor of reg:squarederror.\n"
     ]
    },
    {
     "name": "stderr",
     "output_type": "stream",
     "text": [
      "[Parallel(n_jobs=1)]: Done   2 out of   2 | elapsed:   22.2s remaining:    0.0s\n"
     ]
    },
    {
     "name": "stdout",
     "output_type": "stream",
     "text": [
      "[CV]  subsample=0.8, reg_lambda=0.45, reg_alpha=0, min_child_weight=5, max_depth=3, gamma=2, colsample_bytree=0.6, score=-534161211.04753876, total=  12.9s\n",
      "[CV] subsample=1.0, reg_lambda=1, reg_alpha=0.25, min_child_weight=1, max_depth=4, gamma=0.5, colsample_bytree=1.0 \n",
      "[07:27:50] WARNING: src/objective/regression_obj.cu:152: reg:linear is now deprecated in favor of reg:squarederror.\n",
      "[CV]  subsample=1.0, reg_lambda=1, reg_alpha=0.25, min_child_weight=1, max_depth=4, gamma=0.5, colsample_bytree=1.0, score=-1965022833.1923244, total=  13.0s\n",
      "[CV] subsample=1.0, reg_lambda=1, reg_alpha=0.25, min_child_weight=1, max_depth=4, gamma=0.5, colsample_bytree=1.0 \n",
      "[07:28:03] WARNING: src/objective/regression_obj.cu:152: reg:linear is now deprecated in favor of reg:squarederror.\n",
      "[CV]  subsample=1.0, reg_lambda=1, reg_alpha=0.25, min_child_weight=1, max_depth=4, gamma=0.5, colsample_bytree=1.0, score=-439115439.6948603, total=  22.0s\n",
      "[CV] subsample=1.0, reg_lambda=1, reg_alpha=0.25, min_child_weight=1, max_depth=4, gamma=0.5, colsample_bytree=1.0 \n",
      "[07:28:26] WARNING: src/objective/regression_obj.cu:152: reg:linear is now deprecated in favor of reg:squarederror.\n",
      "[CV]  subsample=1.0, reg_lambda=1, reg_alpha=0.25, min_child_weight=1, max_depth=4, gamma=0.5, colsample_bytree=1.0, score=-458536303.3580586, total=  20.6s\n",
      "[CV] subsample=0.8, reg_lambda=1, reg_alpha=0.75, min_child_weight=5, max_depth=5, gamma=0, colsample_bytree=0.4 \n",
      "[07:28:47] WARNING: src/objective/regression_obj.cu:152: reg:linear is now deprecated in favor of reg:squarederror.\n",
      "[CV]  subsample=0.8, reg_lambda=1, reg_alpha=0.75, min_child_weight=5, max_depth=5, gamma=0, colsample_bytree=0.4, score=-1981543234.0570064, total=   9.2s\n",
      "[CV] subsample=0.8, reg_lambda=1, reg_alpha=0.75, min_child_weight=5, max_depth=5, gamma=0, colsample_bytree=0.4 \n",
      "[07:28:56] WARNING: src/objective/regression_obj.cu:152: reg:linear is now deprecated in favor of reg:squarederror.\n",
      "[CV]  subsample=0.8, reg_lambda=1, reg_alpha=0.75, min_child_weight=5, max_depth=5, gamma=0, colsample_bytree=0.4, score=-359750361.2412476, total=  15.1s\n",
      "[CV] subsample=0.8, reg_lambda=1, reg_alpha=0.75, min_child_weight=5, max_depth=5, gamma=0, colsample_bytree=0.4 \n",
      "[07:29:13] WARNING: src/objective/regression_obj.cu:152: reg:linear is now deprecated in favor of reg:squarederror.\n",
      "[CV]  subsample=0.8, reg_lambda=1, reg_alpha=0.75, min_child_weight=5, max_depth=5, gamma=0, colsample_bytree=0.4, score=-440336198.5192069, total=  14.5s\n",
      "[CV] subsample=1.0, reg_lambda=0.45, reg_alpha=0.25, min_child_weight=1, max_depth=5, gamma=0, colsample_bytree=0.4 \n",
      "[07:29:28] WARNING: src/objective/regression_obj.cu:152: reg:linear is now deprecated in favor of reg:squarederror.\n",
      "[CV]  subsample=1.0, reg_lambda=0.45, reg_alpha=0.25, min_child_weight=1, max_depth=5, gamma=0, colsample_bytree=0.4, score=-2089441870.781494, total=   9.1s\n",
      "[CV] subsample=1.0, reg_lambda=0.45, reg_alpha=0.25, min_child_weight=1, max_depth=5, gamma=0, colsample_bytree=0.4 \n",
      "[07:29:38] WARNING: src/objective/regression_obj.cu:152: reg:linear is now deprecated in favor of reg:squarederror.\n",
      "[CV]  subsample=1.0, reg_lambda=0.45, reg_alpha=0.25, min_child_weight=1, max_depth=5, gamma=0, colsample_bytree=0.4, score=-394151255.96353143, total=  14.6s\n",
      "[CV] subsample=1.0, reg_lambda=0.45, reg_alpha=0.25, min_child_weight=1, max_depth=5, gamma=0, colsample_bytree=0.4 \n",
      "[07:29:54] WARNING: src/objective/regression_obj.cu:152: reg:linear is now deprecated in favor of reg:squarederror.\n",
      "[CV]  subsample=1.0, reg_lambda=0.45, reg_alpha=0.25, min_child_weight=1, max_depth=5, gamma=0, colsample_bytree=0.4, score=-428388199.87535286, total=  14.0s\n",
      "[CV] subsample=0.8, reg_lambda=1, reg_alpha=0.25, min_child_weight=5, max_depth=3, gamma=0.5, colsample_bytree=0.6 \n",
      "[07:30:09] WARNING: src/objective/regression_obj.cu:152: reg:linear is now deprecated in favor of reg:squarederror.\n",
      "[CV]  subsample=0.8, reg_lambda=1, reg_alpha=0.25, min_child_weight=5, max_depth=3, gamma=0.5, colsample_bytree=0.6, score=-1964071314.973256, total=   8.0s\n",
      "[CV] subsample=0.8, reg_lambda=1, reg_alpha=0.25, min_child_weight=5, max_depth=3, gamma=0.5, colsample_bytree=0.6 \n",
      "[07:30:17] WARNING: src/objective/regression_obj.cu:152: reg:linear is now deprecated in favor of reg:squarederror.\n",
      "[CV]  subsample=0.8, reg_lambda=1, reg_alpha=0.25, min_child_weight=5, max_depth=3, gamma=0.5, colsample_bytree=0.6, score=-385209035.4268864, total=  13.5s\n",
      "[CV] subsample=0.8, reg_lambda=1, reg_alpha=0.25, min_child_weight=5, max_depth=3, gamma=0.5, colsample_bytree=0.6 \n",
      "[07:30:31] WARNING: src/objective/regression_obj.cu:152: reg:linear is now deprecated in favor of reg:squarederror.\n",
      "[CV]  subsample=0.8, reg_lambda=1, reg_alpha=0.25, min_child_weight=5, max_depth=3, gamma=0.5, colsample_bytree=0.6, score=-530112802.1608941, total=  13.0s\n",
      "[07:30:45] WARNING: src/objective/regression_obj.cu:152: reg:linear is now deprecated in favor of reg:squarederror.\n"
     ]
    },
    {
     "name": "stderr",
     "output_type": "stream",
     "text": [
      "[Parallel(n_jobs=1)]: Done  15 out of  15 | elapsed:  3.5min finished\n"
     ]
    },
    {
     "name": "stdout",
     "output_type": "stream",
     "text": [
      "\n",
      " Time taken: 0 hours 3 minutes and 48.95 seconds.\n"
     ]
    }
   ],
   "source": [
    "start_time = timer(None) # timing starts from this point for \"start_time\" variable\n",
    "random_search.fit(features[top_feats], label)\n",
    "timer(start_time) # timing ends here for \"start_time\" variable"
   ]
  },
  {
   "cell_type": "code",
   "execution_count": 79,
   "metadata": {},
   "outputs": [
    {
     "name": "stdout",
     "output_type": "stream",
     "text": [
      "\n",
      " Best estimator:\n",
      "XGBRegressor(base_score=0.5, booster='gbtree', colsample_bylevel=1,\n",
      "       colsample_bynode=1, colsample_bytree=0.4, gamma=0,\n",
      "       importance_type='gain', learning_rate=0.01, max_delta_step=0,\n",
      "       max_depth=5, min_child_weight=5, missing=None, n_estimators=10000,\n",
      "       n_jobs=1, nthread=None, objective='reg:linear', random_state=0,\n",
      "       reg_alpha=0.75, reg_lambda=1, scale_pos_weight=1, seed=42,\n",
      "       silent=None, subsample=0.8, verbosity=1)\n",
      "\n",
      " Best normalized gini score for 3-fold search with 5 parameter combinations:\n",
      "-2605764576.0428395\n",
      "\n",
      " Best hyperparameters:\n",
      "{'subsample': 0.8, 'reg_lambda': 1, 'reg_alpha': 0.75, 'min_child_weight': 5, 'max_depth': 5, 'gamma': 0, 'colsample_bytree': 0.4}\n"
     ]
    }
   ],
   "source": [
    "print('\\n Best estimator:')\n",
    "print(random_search.best_estimator_)\n",
    "print('\\n Best normalized gini score for %d-fold search with %d parameter combinations:' % (folds, param_comb))\n",
    "print(random_search.best_score_ * 2 - 1)\n",
    "print('\\n Best hyperparameters:')\n",
    "print(random_search.best_params_)\n",
    "\n",
    "results = pd.DataFrame(random_search.cv_results_)"
   ]
  },
  {
   "cell_type": "code",
   "execution_count": 80,
   "metadata": {},
   "outputs": [
    {
     "data": {
      "text/html": [
       "<div>\n",
       "<style scoped>\n",
       "    .dataframe tbody tr th:only-of-type {\n",
       "        vertical-align: middle;\n",
       "    }\n",
       "\n",
       "    .dataframe tbody tr th {\n",
       "        vertical-align: top;\n",
       "    }\n",
       "\n",
       "    .dataframe thead th {\n",
       "        text-align: right;\n",
       "    }\n",
       "</style>\n",
       "<table border=\"1\" class=\"dataframe\">\n",
       "  <thead>\n",
       "    <tr style=\"text-align: right;\">\n",
       "      <th></th>\n",
       "      <th>mean_fit_time</th>\n",
       "      <th>std_fit_time</th>\n",
       "      <th>mean_score_time</th>\n",
       "      <th>std_score_time</th>\n",
       "      <th>param_subsample</th>\n",
       "      <th>param_reg_lambda</th>\n",
       "      <th>param_reg_alpha</th>\n",
       "      <th>param_min_child_weight</th>\n",
       "      <th>param_max_depth</th>\n",
       "      <th>param_gamma</th>\n",
       "      <th>...</th>\n",
       "      <th>split1_test_score</th>\n",
       "      <th>split2_test_score</th>\n",
       "      <th>mean_test_score</th>\n",
       "      <th>std_test_score</th>\n",
       "      <th>rank_test_score</th>\n",
       "      <th>split0_train_score</th>\n",
       "      <th>split1_train_score</th>\n",
       "      <th>split2_train_score</th>\n",
       "      <th>mean_train_score</th>\n",
       "      <th>std_train_score</th>\n",
       "    </tr>\n",
       "  </thead>\n",
       "  <tbody>\n",
       "    <tr>\n",
       "      <th>0</th>\n",
       "      <td>11.322579</td>\n",
       "      <td>2.558211</td>\n",
       "      <td>0.167667</td>\n",
       "      <td>0.086751</td>\n",
       "      <td>0.8</td>\n",
       "      <td>0.45</td>\n",
       "      <td>0</td>\n",
       "      <td>5</td>\n",
       "      <td>3</td>\n",
       "      <td>2</td>\n",
       "      <td>...</td>\n",
       "      <td>-3.822940e+08</td>\n",
       "      <td>-5.341612e+08</td>\n",
       "      <td>-1.305660e+09</td>\n",
       "      <td>7.318360e+08</td>\n",
       "      <td>2</td>\n",
       "      <td>-1.039820e+06</td>\n",
       "      <td>-1.192267e+07</td>\n",
       "      <td>-1.162825e+07</td>\n",
       "      <td>-8.196913e+06</td>\n",
       "      <td>5.062256e+06</td>\n",
       "    </tr>\n",
       "    <tr>\n",
       "      <th>1</th>\n",
       "      <td>18.237847</td>\n",
       "      <td>4.090675</td>\n",
       "      <td>0.281827</td>\n",
       "      <td>0.144410</td>\n",
       "      <td>1</td>\n",
       "      <td>1</td>\n",
       "      <td>0.25</td>\n",
       "      <td>1</td>\n",
       "      <td>4</td>\n",
       "      <td>0.5</td>\n",
       "      <td>...</td>\n",
       "      <td>-4.391154e+08</td>\n",
       "      <td>-4.585363e+08</td>\n",
       "      <td>-1.313236e+09</td>\n",
       "      <td>7.502445e+08</td>\n",
       "      <td>3</td>\n",
       "      <td>-1.773978e+04</td>\n",
       "      <td>-1.097234e+06</td>\n",
       "      <td>-8.220232e+05</td>\n",
       "      <td>-6.456658e+05</td>\n",
       "      <td>4.580055e+05</td>\n",
       "    </tr>\n",
       "    <tr>\n",
       "      <th>2</th>\n",
       "      <td>12.479524</td>\n",
       "      <td>2.806852</td>\n",
       "      <td>0.447403</td>\n",
       "      <td>0.172553</td>\n",
       "      <td>0.8</td>\n",
       "      <td>1</td>\n",
       "      <td>0.75</td>\n",
       "      <td>5</td>\n",
       "      <td>5</td>\n",
       "      <td>0</td>\n",
       "      <td>...</td>\n",
       "      <td>-3.597504e+08</td>\n",
       "      <td>-4.403362e+08</td>\n",
       "      <td>-1.302882e+09</td>\n",
       "      <td>7.815935e+08</td>\n",
       "      <td>1</td>\n",
       "      <td>-1.836942e+03</td>\n",
       "      <td>-1.209683e+05</td>\n",
       "      <td>-1.289861e+05</td>\n",
       "      <td>-8.393044e+04</td>\n",
       "      <td>5.814108e+04</td>\n",
       "    </tr>\n",
       "    <tr>\n",
       "      <th>3</th>\n",
       "      <td>12.104792</td>\n",
       "      <td>2.669150</td>\n",
       "      <td>0.467037</td>\n",
       "      <td>0.191146</td>\n",
       "      <td>1</td>\n",
       "      <td>0.45</td>\n",
       "      <td>0.25</td>\n",
       "      <td>1</td>\n",
       "      <td>5</td>\n",
       "      <td>0</td>\n",
       "      <td>...</td>\n",
       "      <td>-3.941513e+08</td>\n",
       "      <td>-4.283882e+08</td>\n",
       "      <td>-1.368278e+09</td>\n",
       "      <td>8.301473e+08</td>\n",
       "      <td>5</td>\n",
       "      <td>-6.340242e+01</td>\n",
       "      <td>-3.990154e+04</td>\n",
       "      <td>-5.148900e+04</td>\n",
       "      <td>-3.048465e+04</td>\n",
       "      <td>2.202508e+04</td>\n",
       "    </tr>\n",
       "    <tr>\n",
       "      <th>4</th>\n",
       "      <td>11.331043</td>\n",
       "      <td>2.569042</td>\n",
       "      <td>0.173500</td>\n",
       "      <td>0.089949</td>\n",
       "      <td>0.8</td>\n",
       "      <td>1</td>\n",
       "      <td>0.25</td>\n",
       "      <td>5</td>\n",
       "      <td>3</td>\n",
       "      <td>0.5</td>\n",
       "      <td>...</td>\n",
       "      <td>-3.852090e+08</td>\n",
       "      <td>-5.301128e+08</td>\n",
       "      <td>-1.318987e+09</td>\n",
       "      <td>7.440095e+08</td>\n",
       "      <td>4</td>\n",
       "      <td>-1.158902e+06</td>\n",
       "      <td>-1.315120e+07</td>\n",
       "      <td>-1.272036e+07</td>\n",
       "      <td>-9.010152e+06</td>\n",
       "      <td>5.554458e+06</td>\n",
       "    </tr>\n",
       "  </tbody>\n",
       "</table>\n",
       "<p>5 rows × 23 columns</p>\n",
       "</div>"
      ],
      "text/plain": [
       "   mean_fit_time  std_fit_time  mean_score_time  std_score_time  \\\n",
       "0      11.322579      2.558211         0.167667        0.086751   \n",
       "1      18.237847      4.090675         0.281827        0.144410   \n",
       "2      12.479524      2.806852         0.447403        0.172553   \n",
       "3      12.104792      2.669150         0.467037        0.191146   \n",
       "4      11.331043      2.569042         0.173500        0.089949   \n",
       "\n",
       "  param_subsample param_reg_lambda param_reg_alpha param_min_child_weight  \\\n",
       "0             0.8             0.45               0                      5   \n",
       "1               1                1            0.25                      1   \n",
       "2             0.8                1            0.75                      5   \n",
       "3               1             0.45            0.25                      1   \n",
       "4             0.8                1            0.25                      5   \n",
       "\n",
       "  param_max_depth param_gamma       ...        split1_test_score  \\\n",
       "0               3           2       ...            -3.822940e+08   \n",
       "1               4         0.5       ...            -4.391154e+08   \n",
       "2               5           0       ...            -3.597504e+08   \n",
       "3               5           0       ...            -3.941513e+08   \n",
       "4               3         0.5       ...            -3.852090e+08   \n",
       "\n",
       "  split2_test_score  mean_test_score  std_test_score  rank_test_score  \\\n",
       "0     -5.341612e+08    -1.305660e+09    7.318360e+08                2   \n",
       "1     -4.585363e+08    -1.313236e+09    7.502445e+08                3   \n",
       "2     -4.403362e+08    -1.302882e+09    7.815935e+08                1   \n",
       "3     -4.283882e+08    -1.368278e+09    8.301473e+08                5   \n",
       "4     -5.301128e+08    -1.318987e+09    7.440095e+08                4   \n",
       "\n",
       "   split0_train_score  split1_train_score  split2_train_score  \\\n",
       "0       -1.039820e+06       -1.192267e+07       -1.162825e+07   \n",
       "1       -1.773978e+04       -1.097234e+06       -8.220232e+05   \n",
       "2       -1.836942e+03       -1.209683e+05       -1.289861e+05   \n",
       "3       -6.340242e+01       -3.990154e+04       -5.148900e+04   \n",
       "4       -1.158902e+06       -1.315120e+07       -1.272036e+07   \n",
       "\n",
       "   mean_train_score  std_train_score  \n",
       "0     -8.196913e+06     5.062256e+06  \n",
       "1     -6.456658e+05     4.580055e+05  \n",
       "2     -8.393044e+04     5.814108e+04  \n",
       "3     -3.048465e+04     2.202508e+04  \n",
       "4     -9.010152e+06     5.554458e+06  \n",
       "\n",
       "[5 rows x 23 columns]"
      ]
     },
     "execution_count": 80,
     "metadata": {},
     "output_type": "execute_result"
    }
   ],
   "source": [
    "results"
   ]
  },
  {
   "cell_type": "markdown",
   "metadata": {},
   "source": [
    "## Export Model"
   ]
  },
  {
   "cell_type": "code",
   "execution_count": 81,
   "metadata": {},
   "outputs": [
    {
     "data": {
      "text/plain": [
       "['xgb_best.pkl']"
      ]
     },
     "execution_count": 81,
     "metadata": {},
     "output_type": "execute_result"
    }
   ],
   "source": [
    "joblib.dump(clf, 'bsmt_clf.pkl')\n",
    "joblib.dump(linreg, 'lin_reg_1.pkl')\n",
    "joblib.dump(forest_reg, 'forest_reg_1.pkl')\n",
    "joblib.dump(xgb, 'xgb_1.pkl')\n",
    "joblib.dump(random_search.best_estimator_, 'xgb_best.pkl')"
   ]
  },
  {
   "cell_type": "markdown",
   "metadata": {},
   "source": [
    "## Generate Ouput CSV for Kaggle"
   ]
  },
  {
   "cell_type": "code",
   "execution_count": 97,
   "metadata": {},
   "outputs": [],
   "source": [
    "def predict_export_csv(model, feature, index, file_name):\n",
    "    temp_output = model.predict(feature)\n",
    "    temp_output_df = pd.DataFrame({'Id': index, 'SalePrice': temp_output })\n",
    "    temp_output_df.to_csv('{}.csv'.format(file_name), sep=',', encoding='utf-8', index=False)"
   ]
  },
  {
   "cell_type": "code",
   "execution_count": 99,
   "metadata": {},
   "outputs": [],
   "source": [
    "predict_export_csv(random_search, test_processed[top_feats], test['Id'], 'house_prediction')"
   ]
  },
  {
   "cell_type": "code",
   "execution_count": null,
   "metadata": {},
   "outputs": [],
   "source": []
  }
 ],
 "metadata": {
  "kernelspec": {
   "display_name": "Python 3",
   "language": "python",
   "name": "python3"
  },
  "language_info": {
   "codemirror_mode": {
    "name": "ipython",
    "version": 3
   },
   "file_extension": ".py",
   "mimetype": "text/x-python",
   "name": "python",
   "nbconvert_exporter": "python",
   "pygments_lexer": "ipython3",
   "version": "3.7.2"
  }
 },
 "nbformat": 4,
 "nbformat_minor": 2
}
